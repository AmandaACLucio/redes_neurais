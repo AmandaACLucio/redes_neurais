{
 "cells": [
  {
   "cell_type": "markdown",
   "id": "6506b9ec",
   "metadata": {},
   "source": [
    "# Detecção de Raças de Cachorros utilizando Redes Neurais"
   ]
  },
  {
   "cell_type": "markdown",
   "id": "a30a6b9a",
   "metadata": {},
   "source": [
    "## Importações"
   ]
  },
  {
   "cell_type": "markdown",
   "id": "47610128",
   "metadata": {},
   "source": [
    "### Importando biblioteca"
   ]
  },
  {
   "cell_type": "code",
   "execution_count": 1,
   "id": "4c5ea11c",
   "metadata": {},
   "outputs": [],
   "source": [
    "\n",
    "from sys import platform\n",
    "import os\n",
    "import pandas as pd\n",
    "from PIL import Image\n",
    "import numpy as np\n",
    "import random"
   ]
  },
  {
   "cell_type": "markdown",
   "id": "b105c589",
   "metadata": {},
   "source": [
    "### Importando Dataset"
   ]
  },
  {
   "cell_type": "code",
   "execution_count": 2,
   "id": "5a854672",
   "metadata": {},
   "outputs": [],
   "source": [
    "if platform == \"linux\" or platform == \"linux2\":\n",
    "    folder_path = os.getcwd() + \"/\" + \"low-resolution\"\n",
    "elif platform == \"win32\":\n",
    "   folder_path = os.getcwd() + \"\\\\\" + \"low-resolution\"\n",
    "\n",
    "\n",
    "list_images = []\n",
    "\n",
    "for subfolder in os.listdir(folder_path):\n",
    "    subfolder_path = os.path.join(folder_path, subfolder)\n",
    "    \n",
    "    if os.path.isdir(subfolder_path):\n",
    "        for file in os.listdir(subfolder_path):\n",
    "            \n",
    "            file_path = os.path.join(subfolder_path, file)\n",
    "            image_about = {}\n",
    "            breed = subfolder.split(\"-\")[-1]\n",
    "            image_about[\"breed\"] = breed\n",
    "            image_about[\"filename\"] = file\n",
    "            image_about[\"path_file\"] = file_path\n",
    "            list_images.append(image_about)\n",
    "\n",
    "df_images = pd.DataFrame.from_records(list_images)"
   ]
  },
  {
   "attachments": {},
   "cell_type": "markdown",
   "id": "46e8e35d",
   "metadata": {},
   "source": [
    "### Criando modelo"
   ]
  },
  {
   "cell_type": "code",
   "execution_count": 3,
   "id": "a58c7645",
   "metadata": {},
   "outputs": [
    {
     "name": "stderr",
     "output_type": "stream",
     "text": [
      "2023-07-15 19:22:06.820610: I tensorflow/tsl/cuda/cudart_stub.cc:28] Could not find cuda drivers on your machine, GPU will not be used.\n",
      "2023-07-15 19:22:06.855143: I tensorflow/tsl/cuda/cudart_stub.cc:28] Could not find cuda drivers on your machine, GPU will not be used.\n",
      "2023-07-15 19:22:06.855600: I tensorflow/core/platform/cpu_feature_guard.cc:182] This TensorFlow binary is optimized to use available CPU instructions in performance-critical operations.\n",
      "To enable the following instructions: AVX2 FMA, in other operations, rebuild TensorFlow with the appropriate compiler flags.\n",
      "2023-07-15 19:22:07.767573: W tensorflow/compiler/tf2tensorrt/utils/py_utils.cc:38] TF-TRT Warning: Could not find TensorRT\n"
     ]
    }
   ],
   "source": [
    "import tensorflow as tf"
   ]
  },
  {
   "cell_type": "code",
   "execution_count": 4,
   "id": "03225f8d",
   "metadata": {},
   "outputs": [],
   "source": [
    "model = tf.keras.models.Sequential()"
   ]
  },
  {
   "cell_type": "code",
   "execution_count": 4,
   "id": "7636e43d",
   "metadata": {},
   "outputs": [
    {
     "name": "stdout",
     "output_type": "stream",
     "text": [
      "Tamanho do dataset: (2600, 300, 400, 3)\n",
      "Tamanho das labels: (2600,)\n",
      "Exemplo de uma imagem: [[[ 72  67  63]\n",
      "  [ 74  69  65]\n",
      "  [ 76  71  67]\n",
      "  ...\n",
      "  [  1   1   1]\n",
      "  [  1   1   1]\n",
      "  [  1   1   1]]\n",
      "\n",
      " [[ 74  69  65]\n",
      "  [ 76  71  67]\n",
      "  [ 78  73  69]\n",
      "  ...\n",
      "  [  1   1   1]\n",
      "  [  1   1   1]\n",
      "  [  1   1   1]]\n",
      "\n",
      " [[ 76  71  67]\n",
      "  [ 78  73  69]\n",
      "  [ 80  75  71]\n",
      "  ...\n",
      "  [  1   1   1]\n",
      "  [  1   1   1]\n",
      "  [  1   1   1]]\n",
      "\n",
      " ...\n",
      "\n",
      " [[199 183 183]\n",
      "  [197 182 182]\n",
      "  [195 182 182]\n",
      "  ...\n",
      "  [141 129 129]\n",
      "  [140 131 130]\n",
      "  [152 142 141]]\n",
      "\n",
      " [[196 180 180]\n",
      "  [198 182 182]\n",
      "  [200 188 188]\n",
      "  ...\n",
      "  [142 131 130]\n",
      "  [141 130 129]\n",
      "  [153 143 142]]\n",
      "\n",
      " [[193 177 177]\n",
      "  [194 178 178]\n",
      "  [197 185 185]\n",
      "  ...\n",
      "  [140 129 128]\n",
      "  [139 129 128]\n",
      "  [151 141 140]]]\n",
      "Label da imagem: 201-n000024-schipperke\n"
     ]
    }
   ],
   "source": [
    "if platform == \"linux\" or platform == \"linux2\":\n",
    "    folder_path = os.getcwd() + \"/\" + \"low-resolution\"\n",
    "elif platform == \"win32\":\n",
    "   folder_path = os.getcwd() + \"\\\\\" + \"low-resolution\"\n",
    "amostra_por_pasta = 20\n",
    "dataset = []\n",
    "labels = []\n",
    "img_size_height = 300\n",
    "img_size_width = 400\n",
    "\n",
    "arquivos = os.listdir(folder_path)\n",
    "\n",
    "subpastas = [subpasta for subpasta in os.listdir(folder_path)]\n",
    "\n",
    "for subpasta in subpastas:\n",
    "    subpasta_path = os.path.join(folder_path, subpasta)\n",
    "    imagens = os.listdir(subpasta_path)\n",
    "\n",
    "    # Verifica se há mais de 20 imagens na pasta\n",
    "    if len(imagens) > amostra_por_pasta:\n",
    "        imagens_amostradas = random.sample(imagens, amostra_por_pasta)\n",
    "    else:\n",
    "        imagens_amostradas = imagens\n",
    "\n",
    "    for imagem_nome in imagens_amostradas:\n",
    "        extensao = os.path.splitext(imagem_nome)[1].lower()\n",
    "        \n",
    "        imagem_path = os.path.join(subpasta_path, imagem_nome)\n",
    "        imagem = Image.open(imagem_path)\n",
    "        imagem = imagem.resize((img_size_width, img_size_height))  # Redimensiona para um tamanho comum\n",
    "        imagem_array = np.array(imagem)\n",
    "\n",
    "        dataset.append(imagem_array)\n",
    "        labels.append(subpasta)\n",
    "\n",
    "# Converte o dataset e as labels em arrays NumPy\n",
    "dataset = np.array(dataset)\n",
    "labels = np.array(labels)\n",
    "\n",
    "# Exemplo de como usar o dataset e as labels\n",
    "print(\"Tamanho do dataset:\", dataset.shape)\n",
    "print(\"Tamanho das labels:\", labels.shape)\n",
    "print(\"Exemplo de uma imagem:\", dataset[0])\n",
    "print(\"Label da imagem:\", labels[0])"
   ]
  },
  {
   "cell_type": "code",
   "execution_count": null,
   "id": "6d2febe1",
   "metadata": {},
   "outputs": [],
   "source": []
  }
 ],
 "metadata": {
  "kernelspec": {
   "display_name": "Python 3 (ipykernel)",
   "language": "python",
   "name": "python3"
  },
  "language_info": {
   "codemirror_mode": {
    "name": "ipython",
    "version": 3
   },
   "file_extension": ".py",
   "mimetype": "text/x-python",
   "name": "python",
   "nbconvert_exporter": "python",
   "pygments_lexer": "ipython3",
   "version": "3.8.10"
  }
 },
 "nbformat": 4,
 "nbformat_minor": 5
}

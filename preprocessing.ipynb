{
 "cells": [
  {
   "cell_type": "markdown",
   "id": "6506b9ec",
   "metadata": {},
   "source": [
    "# Detecção de Raças de Cachorros utilizando Redes Neurais"
   ]
  },
  {
   "cell_type": "markdown",
   "id": "a30a6b9a",
   "metadata": {},
   "source": [
    "## Importações"
   ]
  },
  {
   "cell_type": "markdown",
   "id": "47610128",
   "metadata": {},
   "source": [
    "### Importando biblioteca"
   ]
  },
  {
   "cell_type": "code",
   "execution_count": 13,
   "id": "4c5ea11c",
   "metadata": {},
   "outputs": [],
   "source": [
    "\n",
    "from sys import platform\n",
    "import os\n",
    "import pandas as pd\n",
    "from PIL import Image\n",
    "import numpy as np\n",
    "import random\n",
    "from sklearn.model_selection import train_test_split\n",
    "import tensorflow as tf"
   ]
  },
  {
   "cell_type": "markdown",
   "id": "b105c589",
   "metadata": {},
   "source": [
    "### Importando Dataset"
   ]
  },
  {
   "cell_type": "code",
   "execution_count": 14,
   "id": "5a854672",
   "metadata": {},
   "outputs": [],
   "source": [
    "if platform == \"linux\" or platform == \"linux2\":\n",
    "    folder_path = os.getcwd() + \"/\" + \"low-resolution\"\n",
    "elif platform == \"win32\":\n",
    "   folder_path = os.getcwd() + \"\\\\\" + \"low-resolution\"\n",
    "\n",
    "\n",
    "list_images = []\n",
    "\n",
    "for subfolder in os.listdir(folder_path):\n",
    "    subfolder_path = os.path.join(folder_path, subfolder)\n",
    "    \n",
    "    if os.path.isdir(subfolder_path):\n",
    "        for file in os.listdir(subfolder_path):\n",
    "            \n",
    "            file_path = os.path.join(subfolder_path, file)\n",
    "            image_about = {}\n",
    "            breed = subfolder.split(\"-\")[-1]\n",
    "            image_about[\"breed\"] = breed\n",
    "            image_about[\"filename\"] = file\n",
    "            image_about[\"path_file\"] = file_path\n",
    "            list_images.append(image_about)\n",
    "\n",
    "df_images = pd.DataFrame.from_records(list_images)"
   ]
  },
  {
   "attachments": {},
   "cell_type": "markdown",
   "id": "46e8e35d",
   "metadata": {},
   "source": [
    "### Pré-processamento"
   ]
  },
  {
   "cell_type": "code",
   "execution_count": 15,
   "id": "7636e43d",
   "metadata": {},
   "outputs": [],
   "source": [
    "if platform == \"linux\" or platform == \"linux2\":\n",
    "    os_path = \"/\" \n",
    "elif platform == \"win32\":\n",
    "   os_path = \"\\\\\"\n",
    "\n",
    "folder_path = os.getcwd() + os_path + \"low-resolution\"\n",
    "slot_size = 20\n",
    "\n",
    "#Retorna uma tupla com os path de cada imagem e o target randomizados\n",
    "def load_path_of_dataset():\n",
    "    arquivos = os.listdir(folder_path)\n",
    "    subpastas = [subpasta for subpasta in os.listdir(folder_path)]\n",
    "    imagens_path = []\n",
    "    labels = []\n",
    "    for subpasta in subpastas:\n",
    "        subpasta_path = os.path.join(folder_path, subpasta)\n",
    "        imagens = os.listdir(subpasta_path)\n",
    "        imagens_path.extend([subpasta + os_path + s for s in imagens])\n",
    "        label = subpasta.split(\"-\")[2]\n",
    "        labels.extend([label for s in imagens])\n",
    "    minha_lista = list(zip(imagens_path, labels))\n",
    "    random.shuffle(minha_lista)\n",
    "    return minha_lista\n",
    "\n",
    "#função responsavel em realizar a divisão em slots\n",
    "#recebe como parametro a tupla da função load_path_of_dataset, e o numero da interação para carregar o dataframe\n",
    "#retorna uma tupla menor, e o numero máximo de interações posiveis até o fim do dataset\n",
    "def slot_loading(interacao, imagens_amostradas, imagens_labels):\n",
    "    if interacao <= 0:\n",
    "        raise ValueError('O valor da interação, deve ser maior que zero ! ')\n",
    "    elif interacao > (interacao * len(imagens_amostradas)):\n",
    "        raise ValueError('O valor da interação, é muito grande !')\n",
    "    \n",
    "    start_index = (interacao - 1) * slot_size\n",
    "    end_index = interacao * slot_size\n",
    "    if end_index > len(imagens_amostradas):\n",
    "        return imagens_amostradas[start_index:], imagens_labels[start_index:]\n",
    "\n",
    "    return imagens_amostradas[start_index:end_index], imagens_labels[start_index:end_index], len(imagens_amostradas) // slot_size\n",
    "\n",
    "#Recebe como parametro uma tupla\n",
    "#retorna um dataset já pré-processado e formatados\n",
    "def get_images(imagens_amostradas):\n",
    "    dataset = pd.DataFrame(columns=['Image', 'Label'])\n",
    "    img_size_height = 300\n",
    "    img_size_width = 400\n",
    "    for imagem_nome in imagens_amostradas:\n",
    "        # extensao = os.path.splitext(imagem_nome)[1].lower()\n",
    "        imagem_path = os.path.join(folder_path, imagem_nome[0])\n",
    "        imagem = Image.open(imagem_path)\n",
    "        imagem = imagem.resize((img_size_width, img_size_height))  # Redimensiona para um tamanho comum\n",
    "        imagem_array = np.array(imagem) / 255.0  # Normaliza dividindo por 255\n",
    "        dataset.loc[len(dataset)] = [imagem_array, imagem_nome[1]]\n",
    "\n",
    "    return dataset;\n"
   ]
  },
  {
   "attachments": {},
   "cell_type": "markdown",
   "id": "c3fea311",
   "metadata": {},
   "source": [
    "#### Exemplo de utilização"
   ]
  },
  {
   "cell_type": "code",
   "execution_count": 16,
   "id": "3a7a4a34",
   "metadata": {},
   "outputs": [
    {
     "ename": "TypeError",
     "evalue": "slot_loading() missing 1 required positional argument: 'imagens_labels'",
     "output_type": "error",
     "traceback": [
      "\u001b[0;31m---------------------------------------------------------------------------\u001b[0m",
      "\u001b[0;31mTypeError\u001b[0m                                 Traceback (most recent call last)",
      "Cell \u001b[0;32mIn[16], line 2\u001b[0m\n\u001b[1;32m      1\u001b[0m path_dataset \u001b[39m=\u001b[39m load_path_of_dataset()\n\u001b[0;32m----> 2\u001b[0m slot_path_dataset, interations \u001b[39m=\u001b[39m slot_loading(\u001b[39m1\u001b[39;49m,path_dataset)\n\u001b[1;32m      3\u001b[0m \u001b[39mprint\u001b[39m(\u001b[39m\"\u001b[39m\u001b[39mInterations: \u001b[39m\u001b[39m\"\u001b[39m, interations)\n\u001b[1;32m      4\u001b[0m dataset \u001b[39m=\u001b[39m get_images(slot_path_dataset);\n",
      "\u001b[0;31mTypeError\u001b[0m: slot_loading() missing 1 required positional argument: 'imagens_labels'"
     ]
    }
   ],
   "source": [
    "\n",
    "path_dataset = load_path_of_dataset()\n",
    "slot_path_dataset, interations = slot_loading(1,path_dataset)\n",
    "print(\"Interations: \", interations)\n",
    "dataset = get_images(slot_path_dataset);\n",
    "print(dataset)"
   ]
  },
  {
   "attachments": {},
   "cell_type": "markdown",
   "id": "024e8818",
   "metadata": {},
   "source": [
    "## Separação do Conjunto de teste e treino"
   ]
  },
  {
   "cell_type": "code",
   "execution_count": 17,
   "id": "6d2febe1",
   "metadata": {},
   "outputs": [
    {
     "name": "stdout",
     "output_type": "stream",
     "text": [
      "Dimensões do conjunto de treino: 49302 49302\n",
      "Dimensões do conjunto de teste: 21130 21130\n"
     ]
    }
   ],
   "source": [
    "# Sua tupla\n",
    "path_dataset = load_path_of_dataset()\n",
    "\n",
    "# Separando o conjunto de teste e treino\n",
    "X = [item[0] for item in path_dataset]  # Recursos (features) da tupla\n",
    "y = [item[1] for item in path_dataset]   # Rótulos (labels) da tupla\n",
    "\n",
    "# Separando 70% para treino e 30% para teste\n",
    "X_treino, X_teste, y_treino, y_teste = train_test_split(X, y, test_size=0.3, random_state=42)\n",
    "\n",
    "# Exibindo as dimensões dos conjuntos de treino e teste\n",
    "print(\"Dimensões do conjunto de treino:\", len(X_treino), len(y_treino))\n",
    "print(\"Dimensões do conjunto de teste:\", len(X_teste), len(y_teste))"
   ]
  },
  {
   "attachments": {},
   "cell_type": "markdown",
   "id": "c1bff8bd",
   "metadata": {},
   "source": [
    "## Criação do modelo"
   ]
  },
  {
   "cell_type": "code",
   "execution_count": 18,
   "id": "03225f8d",
   "metadata": {},
   "outputs": [],
   "source": [
    "model = tf.keras.models.Sequential()"
   ]
  },
  {
   "attachments": {},
   "cell_type": "markdown",
   "id": "429dd2ba",
   "metadata": {},
   "source": [
    "#### Treinamento em batches "
   ]
  },
  {
   "cell_type": "code",
   "execution_count": 20,
   "id": "0ef53db8",
   "metadata": {},
   "outputs": [
    {
     "name": "stdout",
     "output_type": "stream",
     "text": [
      "['5355-n000126-golden_retriever/n155974.jpeg', '253-n000105-Cane_Carso/n132724.jpg', '3083-n000117-Bichon_Frise/n144187.jpg', '7449-n000128-teddy/n163693.jpg', '1121-n000002-French_bulldog/n102147.jpeg', '215-n000038-Lhasa/n113416.jpg', '3083-n000117-Bichon_Frise/n144948.jpg', '206-n000037-Scotch_terrier/n112266.jpg', '3580-n000122-Labrador_retriever/n153592.jpeg', '7449-n000128-teddy/n166351.jpeg', '229-n000087-Kerry_blue_terrier/n126194.jpg', '223-n000067-kuvasz/n120192.jpg', '2925-n000114-toy_poodle/n142402.jpg', '7449-n000128-teddy/n162918.jpg', '7449-n000128-teddy/n161877.jpg', '221-n000055-EntleBucher/n117446.jpg', '1121-n000002-French_bulldog/n101951.jpeg', '206-n000037-Scotch_terrier/n112214.jpg', '7449-n000128-teddy/n166231.jpeg', '3580-n000122-Labrador_retriever/n152968.jpeg']\n",
      "['golden_retriever', 'Cane_Carso', 'Bichon_Frise', 'teddy', 'French_bulldog', 'Lhasa', 'Bichon_Frise', 'Scotch_terrier', 'Labrador_retriever', 'teddy', 'Kerry_blue_terrier', 'kuvasz', 'toy_poodle', 'teddy', 'teddy', 'EntleBucher', 'French_bulldog', 'Scotch_terrier', 'teddy', 'Labrador_retriever']\n"
     ]
    }
   ],
   "source": [
    "\n",
    "# X = [item[0] for item in path_dataset]  # Recursos (features) da tupla\n",
    "# y = [item[1] for item in path_dataset]   # Rótulos (labels) da tupla\n",
    "\n",
    "# Treinar o modelo\n",
    "x_new, y_new, i = slot_loading(1, X_treino, y_treino)\n",
    "print(x_new)\n",
    "print(y_new)\n",
    "# model.fit(x_new, y_new)\n",
    "\n",
    "for o in range(i):\n",
    "    print( o,\" of \" ,i)\n",
    "    x_new, y_new = None\n",
    "    x_new, y_new, i = slot_loading(o, X_treino, y_treino)\n",
    "    model.fit(x_new, y_new)\n",
    "\n",
    "# # Avaliar o modelo\n",
    "# score = model.score(dados_teste, rotulos_teste)\n",
    "# print(\"Acurácia do modelo:\", score)\n",
    "\n",
    "\n"
   ]
  }
 ],
 "metadata": {
  "kernelspec": {
   "display_name": "Python 3 (ipykernel)",
   "language": "python",
   "name": "python3"
  },
  "language_info": {
   "codemirror_mode": {
    "name": "ipython",
    "version": 3
   },
   "file_extension": ".py",
   "mimetype": "text/x-python",
   "name": "python",
   "nbconvert_exporter": "python",
   "pygments_lexer": "ipython3",
   "version": "3.8.10"
  }
 },
 "nbformat": 4,
 "nbformat_minor": 5
}

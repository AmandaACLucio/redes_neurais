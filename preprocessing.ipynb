{
 "cells": [
  {
   "cell_type": "markdown",
   "id": "6506b9ec",
   "metadata": {},
   "source": [
    "# Detecção de Raças de Cachorros utilizando Redes Neurais"
   ]
  },
  {
   "cell_type": "markdown",
   "id": "a30a6b9a",
   "metadata": {},
   "source": [
    "## Importações"
   ]
  },
  {
   "cell_type": "markdown",
   "id": "47610128",
   "metadata": {},
   "source": [
    "### Importando biblioteca"
   ]
  },
  {
   "cell_type": "code",
   "execution_count": 22,
   "id": "4c5ea11c",
   "metadata": {},
   "outputs": [],
   "source": [
    "\n",
    "from sys import platform\n",
    "import os\n",
    "import pandas as pd\n",
    "from PIL import Image\n",
    "import numpy as np\n",
    "import random\n",
    "from sklearn.model_selection import train_test_split\n",
    "import tensorflow as tf"
   ]
  },
  {
   "cell_type": "markdown",
   "id": "b105c589",
   "metadata": {},
   "source": [
    "### Importando Dataset"
   ]
  },
  {
   "cell_type": "code",
   "execution_count": 23,
   "id": "5a854672",
   "metadata": {},
   "outputs": [],
   "source": [
    "if platform == \"linux\" or platform == \"linux2\":\n",
    "    folder_path = os.getcwd() + \"/\" + \"low-resolution\"\n",
    "elif platform == \"win32\":\n",
    "   folder_path = os.getcwd() + \"\\\\\" + \"low-resolution\"\n",
    "\n",
    "\n",
    "list_images = []\n",
    "\n",
    "for subfolder in os.listdir(folder_path):\n",
    "    subfolder_path = os.path.join(folder_path, subfolder)\n",
    "    \n",
    "    if os.path.isdir(subfolder_path):\n",
    "        for file in os.listdir(subfolder_path):\n",
    "            \n",
    "            file_path = os.path.join(subfolder_path, file)\n",
    "            image_about = {}\n",
    "            breed = subfolder.split(\"-\")[-1]\n",
    "            image_about[\"breed\"] = breed\n",
    "            image_about[\"filename\"] = file\n",
    "            image_about[\"path_file\"] = file_path\n",
    "            list_images.append(image_about)\n",
    "\n",
    "df_images = pd.DataFrame.from_records(list_images)"
   ]
  },
  {
   "cell_type": "markdown",
   "id": "46e8e35d",
   "metadata": {},
   "source": [
    "### Pré-processamento"
   ]
  },
  {
   "cell_type": "code",
   "execution_count": 24,
   "id": "7636e43d",
   "metadata": {},
   "outputs": [],
   "source": [
    "if platform == \"linux\" or platform == \"linux2\":\n",
    "    os_path = \"/\" \n",
    "elif platform == \"win32\":\n",
    "   os_path = \"\\\\\"\n",
    "\n",
    "folder_path = os.getcwd() + os_path + \"low-resolution\"\n",
    "slot_size = 20\n",
    "\n",
    "#Retorna uma tupla com os path de cada imagem e o target randomizados\n",
    "def load_path_of_dataset():\n",
    "    arquivos = os.listdir(folder_path)\n",
    "    subpastas = [subpasta for subpasta in os.listdir(folder_path) if os.path.isdir(os.path.join(folder_path, subpasta))]\n",
    "    imagens_path = []\n",
    "    labels = []\n",
    "    for subpasta in subpastas:\n",
    "        subpasta_path = os.path.join(folder_path, subpasta)\n",
    "        imagens = os.listdir(subpasta_path)\n",
    "        imagens_path.extend([subpasta + os_path + s for s in imagens])\n",
    "        label = subpasta.split(\"-\")[2]\n",
    "        labels.extend([label for s in imagens])\n",
    "    minha_lista = list(zip(imagens_path, labels))\n",
    "    random.shuffle(minha_lista)\n",
    "    return minha_lista\n",
    "\n",
    "#função responsavel em realizar a divisão em slots\n",
    "#recebe como parametro a tupla da função load_path_of_dataset, e o numero da interação para carregar o dataframe\n",
    "#retorna uma tupla menor, e o numero máximo de interações posiveis até o fim do dataset\n",
    "def slot_loading(interacao, imagens_amostradas, imagens_labels):\n",
    "    if interacao <= 0:\n",
    "        raise ValueError('O valor da interação, deve ser maior que zero ! ')\n",
    "    elif interacao > (interacao * len(imagens_amostradas)):\n",
    "        raise ValueError('O valor da interação, é muito grande !')\n",
    "    \n",
    "    start_index = (interacao - 1) * slot_size\n",
    "    end_index = interacao * slot_size\n",
    "    if end_index > len(imagens_amostradas):\n",
    "        return imagens_amostradas[start_index:], imagens_labels[start_index:]\n",
    "\n",
    "    return imagens_amostradas[start_index:end_index], imagens_labels[start_index:end_index], len(imagens_amostradas) // slot_size\n",
    "\n",
    "#Recebe como parametro uma tupla\n",
    "#retorna um dataset já pré-processado e formatados\n",
    "def get_images(imagens_amostradas):\n",
    "    dataset = pd.DataFrame(columns=['Image', 'Label'])\n",
    "    img_size_height = 300\n",
    "    img_size_width = 400\n",
    "    for imagem_nome in imagens_amostradas:\n",
    "        # extensao = os.path.splitext(imagem_nome)[1].lower()\n",
    "        imagem_path = os.path.join(folder_path, imagem_nome[0])\n",
    "        imagem = Image.open(imagem_path)\n",
    "        imagem = imagem.resize((img_size_width, img_size_height))  # Redimensiona para um tamanho comum\n",
    "        imagem_array = np.array(imagem) / 255.0  # Normaliza dividindo por 255\n",
    "        dataset.loc[len(dataset)] = [imagem_array, imagem_nome[1]]\n",
    "\n",
    "    return dataset;\n"
   ]
  },
  {
   "cell_type": "markdown",
   "id": "c3fea311",
   "metadata": {},
   "source": [
    "#### Exemplo de utilização"
   ]
  },
  {
   "cell_type": "code",
   "execution_count": 25,
   "id": "3a7a4a34",
   "metadata": {
    "scrolled": true
   },
   "outputs": [],
   "source": [
    "\n",
    "# path_dataset = load_path_of_dataset()\n",
    "# slot_path_dataset, interations = slot_loading(1,path_dataset)\n",
    "# print(\"Interations: \", interations)\n",
    "# dataset = get_images(slot_path_dataset);\n",
    "# print(dataset)"
   ]
  },
  {
   "cell_type": "markdown",
   "id": "024e8818",
   "metadata": {},
   "source": [
    "## Separação do Conjunto de teste e treino"
   ]
  },
  {
   "cell_type": "code",
   "execution_count": 26,
   "id": "6d2febe1",
   "metadata": {},
   "outputs": [
    {
     "name": "stdout",
     "output_type": "stream",
     "text": [
      "Dimensões do conjunto de treino: 49302 49302\n",
      "Dimensões do conjunto de teste: 21130 21130\n"
     ]
    }
   ],
   "source": [
    "# Sua tupla\n",
    "path_dataset = load_path_of_dataset()\n",
    "\n",
    "# Separando o conjunto de teste e treino\n",
    "X = [item[0] for item in path_dataset]  # Recursos (features) da tupla\n",
    "y = [item[1] for item in path_dataset]   # Rótulos (labels) da tupla\n",
    "\n",
    "# Separando 70% para treino e 30% para teste\n",
    "X_treino, X_teste, y_treino, y_teste = train_test_split(X, y, test_size=0.3, random_state=42)\n",
    "\n",
    "# Exibindo as dimensões dos conjuntos de treino e teste\n",
    "print(\"Dimensões do conjunto de treino:\", len(X_treino), len(y_treino))\n",
    "print(\"Dimensões do conjunto de teste:\", len(X_teste), len(y_teste))"
   ]
  },
  {
   "cell_type": "markdown",
   "id": "c1bff8bd",
   "metadata": {},
   "source": [
    "## Criação do modelo"
   ]
  },
  {
   "cell_type": "code",
   "execution_count": 32,
   "id": "03225f8d",
   "metadata": {},
   "outputs": [
    {
     "name": "stdout",
     "output_type": "stream",
     "text": [
      "Model: \"sequential_3\"\n",
      "_________________________________________________________________\n",
      " Layer (type)                Output Shape              Param #   \n",
      "=================================================================\n",
      " conv2d (Conv2D)             (None, 224, 224, 16)      208       \n",
      "                                                                 \n",
      " max_pooling2d (MaxPooling2  (None, 112, 112, 16)      0         \n",
      " D)                                                              \n",
      "                                                                 \n",
      " conv2d_1 (Conv2D)           (None, 112, 112, 32)      2080      \n",
      "                                                                 \n",
      " max_pooling2d_1 (MaxPoolin  (None, 56, 56, 32)        0         \n",
      " g2D)                                                            \n",
      "                                                                 \n",
      " conv2d_2 (Conv2D)           (None, 56, 56, 64)        8256      \n",
      "                                                                 \n",
      " max_pooling2d_2 (MaxPoolin  (None, 28, 28, 64)        0         \n",
      " g2D)                                                            \n",
      "                                                                 \n",
      " dropout (Dropout)           (None, 28, 28, 64)        0         \n",
      "                                                                 \n",
      " conv2d_3 (Conv2D)           (None, 28, 28, 128)       32896     \n",
      "                                                                 \n",
      " max_pooling2d_3 (MaxPoolin  (None, 14, 14, 128)       0         \n",
      " g2D)                                                            \n",
      "                                                                 \n",
      " dropout_1 (Dropout)         (None, 14, 14, 128)       0         \n",
      "                                                                 \n",
      " flatten (Flatten)           (None, 25088)             0         \n",
      "                                                                 \n",
      " dense (Dense)               (None, 512)               12845568  \n",
      "                                                                 \n",
      " dropout_2 (Dropout)         (None, 512)               0         \n",
      "                                                                 \n",
      " dense_1 (Dense)             (None, 133)               68229     \n",
      "                                                                 \n",
      "=================================================================\n",
      "Total params: 12957237 (49.43 MB)\n",
      "Trainable params: 12957237 (49.43 MB)\n",
      "Non-trainable params: 0 (0.00 Byte)\n",
      "_________________________________________________________________\n"
     ]
    },
    {
     "name": "stderr",
     "output_type": "stream",
     "text": [
      "2023-07-17 20:27:17.379700: W tensorflow/tsl/framework/cpu_allocator_impl.cc:83] Allocation of 51380224 exceeds 10% of free system memory.\n",
      "2023-07-17 20:27:17.391182: W tensorflow/tsl/framework/cpu_allocator_impl.cc:83] Allocation of 51380224 exceeds 10% of free system memory.\n",
      "2023-07-17 20:27:17.397419: W tensorflow/tsl/framework/cpu_allocator_impl.cc:83] Allocation of 51380224 exceeds 10% of free system memory.\n"
     ]
    }
   ],
   "source": [
    "from keras.layers import Conv2D, MaxPooling2D, GlobalAveragePooling2D\n",
    "from keras.layers import Dropout, Flatten, Dense\n",
    "from keras.models import Sequential\n",
    "# Model Architecture\n",
    "model = Sequential()\n",
    "model.add(Conv2D(filters=16, kernel_size=2, padding='same', activation='relu', input_shape=(224,224,3)))\n",
    "model.add(MaxPooling2D(pool_size=2))\n",
    "\n",
    "model.add(Conv2D(filters=32, kernel_size=2 , padding='same' , activation='relu'))\n",
    "model.add(MaxPooling2D(pool_size=2))\n",
    "model.add(Conv2D(filters=64 , kernel_size=2 , padding='same' , activation='relu'))\n",
    "model.add(MaxPooling2D(pool_size=2))\n",
    "model.add(Dropout(0.4))\n",
    "model.add(Conv2D(filters=128 , kernel_size=2 , padding='same' , activation='relu'))\n",
    "model.add(MaxPooling2D(pool_size=2))\n",
    "model.add(Dropout(0.4))\n",
    "model.add(Flatten())\n",
    "model.add(Dense(512, activation='relu'))\n",
    "model.add(Dropout(0.4))\n",
    "model.add(Dense(133,activation='softmax'))\n",
    "model.summary()\n",
    "model.compile(optimizer='adam', loss='binary_crossentropy', metrics=['accuracy'])\n",
    "\n"
   ]
  },
  {
   "cell_type": "markdown",
   "id": "429dd2ba",
   "metadata": {},
   "source": [
    "#### Treinamento em batches "
   ]
  },
  {
   "cell_type": "code",
   "execution_count": 33,
   "id": "0ef53db8",
   "metadata": {},
   "outputs": [
    {
     "name": "stdout",
     "output_type": "stream",
     "text": [
      "1  of  2465\n",
      "['1936-n000005-Pomeranian/n105168.jpeg', '7449-n000128-teddy/n166300.jpeg', '5355-n000126-golden_retriever/n156700.jpeg', '207-n000036-Irish_terrier/n113750.jpg', '235-n000097-clumber/n128459.jpg', '209-n000049-kelpie/n116148.jpg', '2192-n000088-Samoyed/n125110.jpeg', '220-n000069-Mexican_hairless/n120393.jpg', '7449-n000128-teddy/n166842.jpeg', '257-n000108-Old_English_sheepdog/n133341.jpg', '1936-n000005-Pomeranian/n105294.jpg', '229-n000087-Kerry_blue_terrier/n126167.jpg', '234-n000091-Appenzeller/n127589.jpg', '2192-n000088-Samoyed/n124316.jpeg', '2925-n000114-toy_poodle/n140419.jpg', '7449-n000128-teddy/n162279.jpeg', '3083-n000117-Bichon_Frise/n144182.jpg', '5355-n000126-golden_retriever/n160829.jpeg', '235-n000097-clumber/n128481.jpg', '2594-n000109-Border_collie/n135033.jpeg']\n",
      "['Pomeranian', 'teddy', 'golden_retriever', 'Irish_terrier', 'clumber', 'kelpie', 'Samoyed', 'Mexican_hairless', 'teddy', 'Old_English_sheepdog', 'Pomeranian', 'Kerry_blue_terrier', 'Appenzeller', 'Samoyed', 'toy_poodle', 'teddy', 'Bichon_Frise', 'golden_retriever', 'clumber', 'Border_collie']\n",
      "2465\n",
      "Epoch 1/25\n"
     ]
    },
    {
     "ename": "ValueError",
     "evalue": "in user code:\n\n    File \"/home/max/.local/lib/python3.8/site-packages/keras/src/engine/training.py\", line 1338, in train_function  *\n        return step_function(self, iterator)\n    File \"/home/max/.local/lib/python3.8/site-packages/keras/src/engine/training.py\", line 1322, in step_function  **\n        outputs = model.distribute_strategy.run(run_step, args=(data,))\n    File \"/home/max/.local/lib/python3.8/site-packages/keras/src/engine/training.py\", line 1303, in run_step  **\n        outputs = model.train_step(data)\n    File \"/home/max/.local/lib/python3.8/site-packages/keras/src/engine/training.py\", line 1080, in train_step\n        y_pred = self(x, training=True)\n    File \"/home/max/.local/lib/python3.8/site-packages/keras/src/utils/traceback_utils.py\", line 70, in error_handler\n        raise e.with_traceback(filtered_tb) from None\n    File \"/home/max/.local/lib/python3.8/site-packages/keras/src/engine/input_spec.py\", line 253, in assert_input_compatibility\n        raise ValueError(\n\n    ValueError: Exception encountered when calling layer 'sequential_3' (type Sequential).\n    \n    Input 0 of layer \"conv2d\" is incompatible with the layer: expected min_ndim=4, found ndim=1. Full shape received: (20,)\n    \n    Call arguments received by layer 'sequential_3' (type Sequential):\n      • inputs=tf.Tensor(shape=(20,), dtype=string)\n      • training=True\n      • mask=None\n",
     "output_type": "error",
     "traceback": [
      "\u001b[0;31m---------------------------------------------------------------------------\u001b[0m",
      "\u001b[0;31mValueError\u001b[0m                                Traceback (most recent call last)",
      "Cell \u001b[0;32mIn[33], line 15\u001b[0m\n\u001b[1;32m     13\u001b[0m     \u001b[39mprint\u001b[39m(y_new)\n\u001b[1;32m     14\u001b[0m     \u001b[39mprint\u001b[39m(i)\n\u001b[0;32m---> 15\u001b[0m     model\u001b[39m.\u001b[39;49mfit(x_new , y_new, \n\u001b[1;32m     16\u001b[0m                shuffle \u001b[39m=\u001b[39;49m \u001b[39mTrue\u001b[39;49;00m,\n\u001b[1;32m     17\u001b[0m                batch_size \u001b[39m=\u001b[39;49m \u001b[39m20\u001b[39;49m,\n\u001b[1;32m     18\u001b[0m                epochs \u001b[39m=\u001b[39;49m \u001b[39m25\u001b[39;49m,\n\u001b[1;32m     19\u001b[0m                verbose \u001b[39m=\u001b[39;49m \u001b[39m1\u001b[39;49m)\n\u001b[1;32m     20\u001b[0m \u001b[39m# # Avaliar o modelo\u001b[39;00m\n\u001b[1;32m     21\u001b[0m \u001b[39m# score = model.score(dados_teste, rotulos_teste)\u001b[39;00m\n\u001b[1;32m     22\u001b[0m \u001b[39m# print(\"Acurácia do modelo:\", score)\u001b[39;00m\n",
      "File \u001b[0;32m~/.local/lib/python3.8/site-packages/keras/src/utils/traceback_utils.py:70\u001b[0m, in \u001b[0;36mfilter_traceback.<locals>.error_handler\u001b[0;34m(*args, **kwargs)\u001b[0m\n\u001b[1;32m     67\u001b[0m     filtered_tb \u001b[39m=\u001b[39m _process_traceback_frames(e\u001b[39m.\u001b[39m__traceback__)\n\u001b[1;32m     68\u001b[0m     \u001b[39m# To get the full stack trace, call:\u001b[39;00m\n\u001b[1;32m     69\u001b[0m     \u001b[39m# `tf.debugging.disable_traceback_filtering()`\u001b[39;00m\n\u001b[0;32m---> 70\u001b[0m     \u001b[39mraise\u001b[39;00m e\u001b[39m.\u001b[39mwith_traceback(filtered_tb) \u001b[39mfrom\u001b[39;00m \u001b[39mNone\u001b[39;00m\n\u001b[1;32m     71\u001b[0m \u001b[39mfinally\u001b[39;00m:\n\u001b[1;32m     72\u001b[0m     \u001b[39mdel\u001b[39;00m filtered_tb\n",
      "File \u001b[0;32m/tmp/__autograph_generated_filet4l2xn4a.py:15\u001b[0m, in \u001b[0;36mouter_factory.<locals>.inner_factory.<locals>.tf__train_function\u001b[0;34m(iterator)\u001b[0m\n\u001b[1;32m     13\u001b[0m \u001b[39mtry\u001b[39;00m:\n\u001b[1;32m     14\u001b[0m     do_return \u001b[39m=\u001b[39m \u001b[39mTrue\u001b[39;00m\n\u001b[0;32m---> 15\u001b[0m     retval_ \u001b[39m=\u001b[39m ag__\u001b[39m.\u001b[39mconverted_call(ag__\u001b[39m.\u001b[39mld(step_function), (ag__\u001b[39m.\u001b[39mld(\u001b[39mself\u001b[39m), ag__\u001b[39m.\u001b[39mld(iterator)), \u001b[39mNone\u001b[39;00m, fscope)\n\u001b[1;32m     16\u001b[0m \u001b[39mexcept\u001b[39;00m:\n\u001b[1;32m     17\u001b[0m     do_return \u001b[39m=\u001b[39m \u001b[39mFalse\u001b[39;00m\n",
      "\u001b[0;31mValueError\u001b[0m: in user code:\n\n    File \"/home/max/.local/lib/python3.8/site-packages/keras/src/engine/training.py\", line 1338, in train_function  *\n        return step_function(self, iterator)\n    File \"/home/max/.local/lib/python3.8/site-packages/keras/src/engine/training.py\", line 1322, in step_function  **\n        outputs = model.distribute_strategy.run(run_step, args=(data,))\n    File \"/home/max/.local/lib/python3.8/site-packages/keras/src/engine/training.py\", line 1303, in run_step  **\n        outputs = model.train_step(data)\n    File \"/home/max/.local/lib/python3.8/site-packages/keras/src/engine/training.py\", line 1080, in train_step\n        y_pred = self(x, training=True)\n    File \"/home/max/.local/lib/python3.8/site-packages/keras/src/utils/traceback_utils.py\", line 70, in error_handler\n        raise e.with_traceback(filtered_tb) from None\n    File \"/home/max/.local/lib/python3.8/site-packages/keras/src/engine/input_spec.py\", line 253, in assert_input_compatibility\n        raise ValueError(\n\n    ValueError: Exception encountered when calling layer 'sequential_3' (type Sequential).\n    \n    Input 0 of layer \"conv2d\" is incompatible with the layer: expected min_ndim=4, found ndim=1. Full shape received: (20,)\n    \n    Call arguments received by layer 'sequential_3' (type Sequential):\n      • inputs=tf.Tensor(shape=(20,), dtype=string)\n      • training=True\n      • mask=None\n"
     ]
    }
   ],
   "source": [
    "\n",
    "# X = [item[0] for item in path_dataset]  # Recursos (features) da tupla\n",
    "# y = [item[1] for item in path_dataset]   # Rótulos (labels) da tupla\n",
    "\n",
    "# Treinar o modelo\n",
    "x_new, y_new, i = slot_loading(1, X_treino, y_treino)\n",
    "# model.fit(x_new, y_new)\n",
    "\n",
    "for o in range(1, i):\n",
    "    print( o,\" of \" ,i)\n",
    "    x_new, y_new = None, None\n",
    "    x_new, y_new, i = slot_loading(o, X_treino, y_treino)\n",
    "    x_new = get_images(x_new)\n",
    "    print(x_new)\n",
    "    print(y_new)\n",
    "    print(i)\n",
    "    model.fit(x_new , y_new, \n",
    "               shuffle = True,\n",
    "               batch_size = 20,\n",
    "               epochs = 25,\n",
    "               verbose = 1)\n",
    "# # Avaliar o modelo\n",
    "# score = model.score(dados_teste, rotulos_teste)\n",
    "# print(\"Acurácia do modelo:\", score)\n",
    "\n",
    "\n"
   ]
  },
  {
   "cell_type": "code",
   "execution_count": null,
   "id": "d8b7b1a6",
   "metadata": {},
   "outputs": [],
   "source": []
  }
 ],
 "metadata": {
  "kernelspec": {
   "display_name": "Python 3 (ipykernel)",
   "language": "python",
   "name": "python3"
  },
  "language_info": {
   "codemirror_mode": {
    "name": "ipython",
    "version": 3
   },
   "file_extension": ".py",
   "mimetype": "text/x-python",
   "name": "python",
   "nbconvert_exporter": "python",
   "pygments_lexer": "ipython3",
   "version": "3.8.10"
  }
 },
 "nbformat": 4,
 "nbformat_minor": 5
}

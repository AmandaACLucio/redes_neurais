{
 "cells": [
  {
   "cell_type": "markdown",
   "id": "6506b9ec",
   "metadata": {},
   "source": [
    "# Detecção de Raças de Cachorros utilizando Redes Neurais"
   ]
  },
  {
   "cell_type": "markdown",
   "id": "a30a6b9a",
   "metadata": {},
   "source": [
    "## Importações"
   ]
  },
  {
   "cell_type": "markdown",
   "id": "47610128",
   "metadata": {},
   "source": [
    "### Importando biblioteca"
   ]
  },
  {
   "cell_type": "code",
   "execution_count": 157,
   "id": "4c5ea11c",
   "metadata": {},
   "outputs": [],
   "source": [
    "\n",
    "from sys import platform\n",
    "import os\n",
    "import pandas as pd\n",
    "from PIL import Image\n",
    "import numpy as np\n",
    "import random\n",
    "from sklearn.model_selection import train_test_split\n",
    "from sklearn.preprocessing import LabelEncoder\n",
    "import tensorflow as tf"
   ]
  },
  {
   "cell_type": "markdown",
   "id": "b105c589",
   "metadata": {},
   "source": [
    "### Importando Dataset"
   ]
  },
  {
   "cell_type": "code",
   "execution_count": 158,
   "id": "5a854672",
   "metadata": {},
   "outputs": [],
   "source": [
    "if platform == \"linux\" or platform == \"linux2\":\n",
    "    folder_path = os.getcwd() + \"/\" + \"low-resolution\"\n",
    "elif platform == \"win32\":\n",
    "   folder_path = os.getcwd() + \"\\\\\" + \"low-resolution\"\n",
    "\n",
    "\n",
    "list_images = []\n",
    "\n",
    "for subfolder in os.listdir(folder_path):\n",
    "    subfolder_path = os.path.join(folder_path, subfolder)\n",
    "    \n",
    "    if os.path.isdir(subfolder_path):\n",
    "        for file in os.listdir(subfolder_path):\n",
    "            \n",
    "            file_path = os.path.join(subfolder_path, file)\n",
    "            image_about = {}\n",
    "            breed = subfolder.split(\"-\")[-1]\n",
    "            image_about[\"breed\"] = breed\n",
    "            image_about[\"filename\"] = file\n",
    "            image_about[\"path_file\"] = file_path\n",
    "            list_images.append(image_about)\n",
    "\n",
    "df_images = pd.DataFrame.from_records(list_images)"
   ]
  },
  {
   "cell_type": "markdown",
   "id": "46e8e35d",
   "metadata": {},
   "source": [
    "### Pré-processamento"
   ]
  },
  {
   "cell_type": "code",
   "execution_count": 159,
   "id": "7636e43d",
   "metadata": {},
   "outputs": [],
   "source": [
    "if platform == \"linux\" or platform == \"linux2\":\n",
    "    os_path = \"/\" \n",
    "elif platform == \"win32\":\n",
    "   os_path = \"\\\\\"\n",
    "\n",
    "folder_path = os.getcwd() + os_path + \"low-resolution\"\n",
    "slot_size = 20\n",
    "\n",
    "#Retorna uma tupla com os path de cada imagem e o target randomizados\n",
    "def load_path_of_dataset():\n",
    "    arquivos = os.listdir(folder_path)\n",
    "    subpastas = [subpasta for subpasta in os.listdir(folder_path) if os.path.isdir(os.path.join(folder_path, subpasta))]\n",
    "    imagens_path = []\n",
    "    labels = []\n",
    "    for subpasta in subpastas:\n",
    "        subpasta_path = os.path.join(folder_path, subpasta)\n",
    "        imagens = os.listdir(subpasta_path)\n",
    "        imagens_path.extend([subpasta + os_path + s for s in imagens])\n",
    "        label = subpasta.split(\"-\")[2]\n",
    "        labels.extend([label for s in imagens])\n",
    "    # minha_lista = list(zip(imagens_path, labels))\n",
    "    # random.shuffle(minha_lista)\n",
    "    return imagens_path, labels\n",
    "\n",
    "#função responsavel em realizar a divisão em slots\n",
    "#recebe como parametro a tupla da função load_path_of_dataset, e o numero da interação para carregar o dataframe\n",
    "#retorna uma tupla menor, e o numero máximo de interações posiveis até o fim do dataset\n",
    "def slot_loading(interacao, imagens_amostradas, imagens_labels):\n",
    "    if interacao <= 0:\n",
    "        raise ValueError('O valor da interação, deve ser maior que zero ! ')\n",
    "    elif interacao > (interacao * len(imagens_amostradas)):\n",
    "        raise ValueError('O valor da interação, é muito grande !')\n",
    "    \n",
    "    start_index = (interacao - 1) * slot_size\n",
    "    end_index = interacao * slot_size\n",
    "    if end_index > len(imagens_amostradas):\n",
    "        return imagens_amostradas[start_index:], imagens_labels[start_index:]\n",
    "    \n",
    "    return imagens_amostradas[start_index:end_index], tf.convert_to_tensor(imagens_labels[start_index:end_index]), len(imagens_amostradas) // slot_size\n",
    "\n",
    "#Recebe como parametro uma tupla\n",
    "#retorna um dataset já pré-processado e formatados\n",
    "def get_images(imagens_amostradas):\n",
    "    img_size_height = 300\n",
    "    img_size_width = 400\n",
    "    images = []\n",
    "    for imagem_nome in imagens_amostradas:\n",
    "        try:\n",
    "            imagem_path = os.path.join(folder_path, imagem_nome)\n",
    "            imagem = Image.open(imagem_path)\n",
    "            imagem = imagem.resize((img_size_width, img_size_height))  # Redimensiona para um tamanho comum\n",
    "            imagem_array = np.array(imagem) / 255.0  # Normaliza dividindo por 255\n",
    "            images.append(imagem_array)\n",
    "        except Exception as error:\n",
    "            print(\"ocorreu um erro com imagem_path: \", imagem_path, \" imagem_nome \" + imagem_nome,\" imagem_nome[0] \" + imagem_nome[0], \" imagens_amostradas: \" , imagens_amostradas)\n",
    "    images = tf.stack(images)\n",
    "    return images\n"
   ]
  },
  {
   "cell_type": "markdown",
   "id": "c3fea311",
   "metadata": {},
   "source": [
    "#### Exemplo de utilização"
   ]
  },
  {
   "cell_type": "code",
   "execution_count": 160,
   "id": "3a7a4a34",
   "metadata": {
    "scrolled": true
   },
   "outputs": [],
   "source": [
    "X, y = load_path_of_dataset()\n",
    "x_new, y_new, interations = slot_loading(1, X, y)\n",
    "# slot_path_dataset, interations = slot_loading(1,path_dataset)\n",
    "# dataset = get_images(x_new);\n",
    "# print(dataset)"
   ]
  },
  {
   "cell_type": "markdown",
   "id": "024e8818",
   "metadata": {},
   "source": [
    "## Separação do Conjunto de teste e treino"
   ]
  },
  {
   "cell_type": "code",
   "execution_count": 161,
   "id": "6d2febe1",
   "metadata": {},
   "outputs": [
    {
     "name": "stdout",
     "output_type": "stream",
     "text": [
      "Dimensões do conjunto de treino: 49302 49302\n",
      "Dimensões do conjunto de teste: 21130 21130\n"
     ]
    }
   ],
   "source": [
    "# Sua tupla\n",
    "X, y = load_path_of_dataset()\n",
    "\n",
    "label_encoder = LabelEncoder()\n",
    "y = label_encoder.fit_transform(y)\n",
    "y = y.tolist()\n",
    "# Codifique os rótulos como vetores one-hot\n",
    "y = tf.one_hot(y, depth=133)\n",
    "# Converta o tensor para um array numpy\n",
    "y = y.numpy()\n",
    "# Separando 70% para treino e 30% para teste\n",
    "X_treino, X_teste, y_treino, y_teste = train_test_split(X, y, test_size=0.3, random_state=42)\n",
    "\n",
    "# Exibindo as dimensões dos conjuntos de treino e teste\n",
    "print(\"Dimensões do conjunto de treino:\", len(X_treino), len(y_treino))\n",
    "print(\"Dimensões do conjunto de teste:\", len(X_teste), len(y_teste))"
   ]
  },
  {
   "cell_type": "markdown",
   "id": "c1bff8bd",
   "metadata": {},
   "source": [
    "## Criação do modelo"
   ]
  },
  {
   "cell_type": "code",
   "execution_count": 162,
   "id": "03225f8d",
   "metadata": {},
   "outputs": [
    {
     "name": "stdout",
     "output_type": "stream",
     "text": [
      "Model: \"sequential_17\"\n",
      "_________________________________________________________________\n",
      " Layer (type)                Output Shape              Param #   \n",
      "=================================================================\n",
      " conv2d_68 (Conv2D)          (None, 300, 400, 16)      208       \n",
      "                                                                 \n",
      " max_pooling2d_68 (MaxPooli  (None, 150, 200, 16)      0         \n",
      " ng2D)                                                           \n",
      "                                                                 \n",
      " conv2d_69 (Conv2D)          (None, 150, 200, 32)      2080      \n",
      "                                                                 \n",
      " max_pooling2d_69 (MaxPooli  (None, 75, 100, 32)       0         \n",
      " ng2D)                                                           \n",
      "                                                                 \n",
      " conv2d_70 (Conv2D)          (None, 75, 100, 64)       8256      \n",
      "                                                                 \n",
      " max_pooling2d_70 (MaxPooli  (None, 37, 50, 64)        0         \n",
      " ng2D)                                                           \n",
      "                                                                 \n",
      " dropout_51 (Dropout)        (None, 37, 50, 64)        0         \n",
      "                                                                 \n",
      " conv2d_71 (Conv2D)          (None, 37, 50, 128)       32896     \n",
      "                                                                 \n",
      " max_pooling2d_71 (MaxPooli  (None, 18, 25, 128)       0         \n",
      " ng2D)                                                           \n",
      "                                                                 \n",
      " dropout_52 (Dropout)        (None, 18, 25, 128)       0         \n",
      "                                                                 \n",
      " flatten_17 (Flatten)        (None, 57600)             0         \n",
      "                                                                 \n",
      " dense_34 (Dense)            (None, 512)               29491712  \n",
      "                                                                 \n",
      " dropout_53 (Dropout)        (None, 512)               0         \n",
      "                                                                 \n",
      " dense_35 (Dense)            (None, 133)               68229     \n",
      "                                                                 \n",
      "=================================================================\n",
      "Total params: 29603381 (112.93 MB)\n",
      "Trainable params: 29603381 (112.93 MB)\n",
      "Non-trainable params: 0 (0.00 Byte)\n",
      "_________________________________________________________________\n"
     ]
    }
   ],
   "source": [
    "from keras.layers import Conv2D, MaxPooling2D, GlobalAveragePooling2D\n",
    "from keras.layers import Dropout, Flatten, Dense\n",
    "from keras.models import Sequential\n",
    "# Model Architecture\n",
    "model = Sequential()\n",
    "model.add(Conv2D(filters=16, kernel_size=2, padding='same', activation='relu', input_shape=(300,400,3)))\n",
    "model.add(MaxPooling2D(pool_size=2))\n",
    "\n",
    "model.add(Conv2D(filters=32, kernel_size=2 , padding='same' , activation='relu'))\n",
    "model.add(MaxPooling2D(pool_size=2))\n",
    "model.add(Conv2D(filters=64 , kernel_size=2 , padding='same' , activation='relu'))\n",
    "model.add(MaxPooling2D(pool_size=2))\n",
    "model.add(Dropout(0.4))\n",
    "model.add(Conv2D(filters=128 , kernel_size=2 , padding='same' , activation='relu'))\n",
    "model.add(MaxPooling2D(pool_size=2))\n",
    "model.add(Dropout(0.4))\n",
    "model.add(Flatten())\n",
    "model.add(Dense(512, activation='relu'))\n",
    "model.add(Dropout(0.4))\n",
    "model.add(Dense(133,activation='softmax'))\n",
    "model.summary()\n",
    "model.compile(optimizer='adam', loss='binary_crossentropy', metrics=['accuracy'])\n",
    "\n"
   ]
  },
  {
   "cell_type": "markdown",
   "id": "429dd2ba",
   "metadata": {},
   "source": [
    "#### Treinamento em batches "
   ]
  },
  {
   "cell_type": "code",
   "execution_count": 163,
   "id": "0ef53db8",
   "metadata": {},
   "outputs": [
    {
     "name": "stdout",
     "output_type": "stream",
     "text": [
      "['274-n000110-Shetland_sheepdog/n136341.jpeg', '806-n000129-papillon/n170528.jpg', '3336-n000121-chinese_rural_dog/n147394.jpeg', '2909-n000116-Cardigan/n139660.jpeg', '2192-n000088-Samoyed/n125726.jpeg', '3336-n000121-chinese_rural_dog/n149939.jpeg', '3336-n000121-chinese_rural_dog/n149362.jpeg', '2192-n000088-Samoyed/n124595.jpg', '215-n000075-Chesapeake_Bay_retriever/n121448.jpg', '3580-n000122-Labrador_retriever/n151980.jpg', '207-n000011-Irish_setter/n107660.jpg', '253-n000107-Japanese_Spitzes/n133079.jpeg', '1043-n000001-Shiba_Dog/n100255.jpg', '5355-n000126-golden_retriever/n160225.jpeg', '206-n000051-Saluki/n114850.jpg', '221-n000055-EntleBucher/n117419.jpg', '2342-n000102-miniature_schnauzer/n129881.jpg', '276-n000112-English_springer/n136751.jpg', '230-n000084-Boston_bull/n123835.jpg', '211-n000059-German_short_haired_pointer/n118379.jpg']\n",
      "1/1 [==============================] - 2s 2s/step - loss: 0.6849 - accuracy: 0.0000e+00\n",
      "1  of  2465\n",
      "1/1 [==============================] - 1s 718ms/step - loss: 0.3487 - accuracy: 0.0500\n",
      "2  of  2465\n",
      "1/1 [==============================] - 1s 756ms/step - loss: 0.2374 - accuracy: 0.0000e+00\n",
      "3  of  2465\n",
      "1/1 [==============================] - 1s 804ms/step - loss: 0.1432 - accuracy: 0.0000e+00\n",
      "4  of  2465\n",
      "1/1 [==============================] - 1s 733ms/step - loss: 0.0977 - accuracy: 0.0000e+00\n",
      "5  of  2465\n",
      "1/1 [==============================] - 1s 771ms/step - loss: 0.0804 - accuracy: 0.0500\n",
      "6  of  2465\n",
      "1/1 [==============================] - 1s 731ms/step - loss: 0.0772 - accuracy: 0.0000e+00\n",
      "7  of  2465\n",
      "1/1 [==============================] - 1s 728ms/step - loss: 0.0654 - accuracy: 0.0500\n"
     ]
    }
   ],
   "source": [
    "\n",
    "# X = [item[0] for item in path_dataset]  # Recursos (features) da tupla\n",
    "# y = [item[1] for item in path_dataset]   # Rótulos (labels) da tupla\n",
    "\n",
    "\n",
    "# Treinar o modelo\n",
    "x_new, y_new, i = slot_loading(1, X_treino, y_treino)\n",
    "x_new_tensor = get_images(x_new)\n",
    "\n",
    "model.fit(x_new_tensor, y_new)\n",
    "for o in range(1, i):\n",
    "    print( o,\" of \" ,i)\n",
    "    x_new, y_new = None, None\n",
    "    x_new, y_new, i = slot_loading(o, X_treino, y_treino)\n",
    "    x_new = get_images(x_new)\n",
    "    model.fit(x_new , y_new)\n",
    "# # Avaliar o modelo\n",
    "# score = model.score(dados_teste, rotulos_teste)\n",
    "# print(\"Acurácia do modelo:\", score)\n",
    "\n",
    "\n"
   ]
  },
  {
   "cell_type": "markdown",
   "id": "84bdbd92",
   "metadata": {},
   "source": []
  },
  {
   "cell_type": "code",
   "execution_count": null,
   "id": "d8b7b1a6",
   "metadata": {},
   "outputs": [],
   "source": []
  }
 ],
 "metadata": {
  "kernelspec": {
   "display_name": "Python 3 (ipykernel)",
   "language": "python",
   "name": "python3"
  },
  "language_info": {
   "codemirror_mode": {
    "name": "ipython",
    "version": 3
   },
   "file_extension": ".py",
   "mimetype": "text/x-python",
   "name": "python",
   "nbconvert_exporter": "python",
   "pygments_lexer": "ipython3",
   "version": "3.8.10"
  }
 },
 "nbformat": 4,
 "nbformat_minor": 5
}

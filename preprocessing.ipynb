{
 "cells": [
  {
   "cell_type": "markdown",
   "id": "6506b9ec",
   "metadata": {},
   "source": [
    "# Detecção de Raças de Cachorros utilizando Redes Neurais"
   ]
  },
  {
   "cell_type": "markdown",
   "id": "a30a6b9a",
   "metadata": {},
   "source": [
    "## Importações"
   ]
  },
  {
   "cell_type": "markdown",
   "id": "47610128",
   "metadata": {},
   "source": [
    "### Importando biblioteca"
   ]
  },
  {
   "cell_type": "code",
   "execution_count": 94,
   "id": "4c5ea11c",
   "metadata": {},
   "outputs": [],
   "source": [
    "\n",
    "from sys import platform\n",
    "import os\n",
    "import pandas as pd\n",
    "from PIL import Image\n",
    "import numpy as np\n",
    "import random\n",
    "from sklearn.model_selection import train_test_split\n",
    "from sklearn.preprocessing import LabelEncoder\n",
    "import tensorflow as tf"
   ]
  },
  {
   "cell_type": "markdown",
   "id": "b105c589",
   "metadata": {},
   "source": [
    "### Importando Dataset"
   ]
  },
  {
   "cell_type": "code",
   "execution_count": 80,
   "id": "5a854672",
   "metadata": {},
   "outputs": [],
   "source": [
    "if platform == \"linux\" or platform == \"linux2\":\n",
    "    folder_path = os.getcwd() + \"/\" + \"low-resolution\"\n",
    "elif platform == \"win32\":\n",
    "   folder_path = os.getcwd() + \"\\\\\" + \"low-resolution\"\n",
    "\n",
    "\n",
    "list_images = []\n",
    "\n",
    "for subfolder in os.listdir(folder_path):\n",
    "    subfolder_path = os.path.join(folder_path, subfolder)\n",
    "    \n",
    "    if os.path.isdir(subfolder_path):\n",
    "        for file in os.listdir(subfolder_path):\n",
    "            \n",
    "            file_path = os.path.join(subfolder_path, file)\n",
    "            image_about = {}\n",
    "            breed = subfolder.split(\"-\")[-1]\n",
    "            image_about[\"breed\"] = breed\n",
    "            image_about[\"filename\"] = file\n",
    "            image_about[\"path_file\"] = file_path\n",
    "            list_images.append(image_about)\n",
    "\n",
    "df_images = pd.DataFrame.from_records(list_images)"
   ]
  },
  {
   "cell_type": "markdown",
   "id": "46e8e35d",
   "metadata": {},
   "source": [
    "### Pré-processamento"
   ]
  },
  {
   "cell_type": "code",
   "execution_count": 81,
   "id": "7636e43d",
   "metadata": {},
   "outputs": [],
   "source": [
    "if platform == \"linux\" or platform == \"linux2\":\n",
    "    os_path = \"/\" \n",
    "elif platform == \"win32\":\n",
    "   os_path = \"\\\\\"\n",
    "\n",
    "folder_path = os.getcwd() + os_path + \"low-resolution\"\n",
    "slot_size = 20\n",
    "\n",
    "#Retorna uma tupla com os path de cada imagem e o target randomizados\n",
    "def load_path_of_dataset():\n",
    "    arquivos = os.listdir(folder_path)\n",
    "    subpastas = [subpasta for subpasta in os.listdir(folder_path) if os.path.isdir(os.path.join(folder_path, subpasta))]\n",
    "    imagens_path = []\n",
    "    labels = []\n",
    "    for subpasta in subpastas:\n",
    "        subpasta_path = os.path.join(folder_path, subpasta)\n",
    "        imagens = os.listdir(subpasta_path)\n",
    "        imagens_path.extend([subpasta + os_path + s for s in imagens])\n",
    "        label = subpasta.split(\"-\")[2]\n",
    "        labels.extend([label for s in imagens])\n",
    "    # minha_lista = list(zip(imagens_path, labels))\n",
    "    # random.shuffle(minha_lista)\n",
    "    return imagens_path, labels\n",
    "\n",
    "#função responsavel em realizar a divisão em slots\n",
    "#recebe como parametro a tupla da função load_path_of_dataset, e o numero da interação para carregar o dataframe\n",
    "#retorna uma tupla menor, e o numero máximo de interações posiveis até o fim do dataset\n",
    "def slot_loading(interacao, imagens_amostradas, imagens_labels):\n",
    "    if interacao <= 0:\n",
    "        raise ValueError('O valor da interação, deve ser maior que zero ! ')\n",
    "    elif interacao > (interacao * len(imagens_amostradas)):\n",
    "        raise ValueError('O valor da interação, é muito grande !')\n",
    "    \n",
    "    start_index = (interacao - 1) * slot_size\n",
    "    end_index = interacao * slot_size\n",
    "    if end_index > len(imagens_amostradas):\n",
    "        return imagens_amostradas[start_index:], imagens_labels[start_index:]\n",
    "\n",
    "    return imagens_amostradas[start_index:end_index], imagens_labels[start_index:end_index], len(imagens_amostradas) // slot_size\n",
    "\n",
    "#Recebe como parametro uma tupla\n",
    "#retorna um dataset já pré-processado e formatados\n",
    "def get_images(imagens_amostradas):\n",
    "    dataset = pd.DataFrame(columns=['Image'])\n",
    "    img_size_height = 300\n",
    "    img_size_width = 400\n",
    "    for imagem_nome in imagens_amostradas:\n",
    "        try:\n",
    "            # extensao = os.path.splitext(imagem_nome)[1].lower()\n",
    "            imagem_path = os.path.join(folder_path, imagem_nome)\n",
    "            imagem = Image.open(imagem_path)\n",
    "            imagem = imagem.resize((img_size_width, img_size_height))  # Redimensiona para um tamanho comum\n",
    "            imagem_array = np.array(imagem) / 255.0  # Normaliza dividindo por 255\n",
    "            dataset.loc[len(dataset)] = [imagem_array]\n",
    "        except Exception as error:\n",
    "            print(\"ocorreu um erro com imagem_path: \", imagem_path, \" imagem_nome \" + imagem_nome,\" imagem_nome[0] \" + imagem_nome[0], \" imagens_amostradas: \" , imagens_amostradas)\n",
    "\n",
    "    return dataset\n"
   ]
  },
  {
   "cell_type": "markdown",
   "id": "c3fea311",
   "metadata": {},
   "source": [
    "#### Exemplo de utilização"
   ]
  },
  {
   "cell_type": "code",
   "execution_count": 82,
   "id": "3a7a4a34",
   "metadata": {
    "scrolled": true
   },
   "outputs": [
    {
     "name": "stdout",
     "output_type": "stream",
     "text": [
      "                                                Image\n",
      "0   [[[0.6235294117647059, 0.6392156862745098, 0.5...\n",
      "1   [[[0.5098039215686274, 0.4823529411764706, 0.6...\n",
      "2   [[[0.5803921568627451, 0.23921568627450981, 0....\n",
      "3   [[[0.9686274509803922, 1.0, 1.0], [0.952941176...\n",
      "4   [[[0.07450980392156863, 0.08235294117647059, 0...\n",
      "5   [[[0.5647058823529412, 0.5450980392156862, 0.5...\n",
      "6   [[[0.615686274509804, 0.7254901960784313, 0.39...\n",
      "7   [[[1.0, 1.0, 1.0], [1.0, 1.0, 1.0], [1.0, 1.0,...\n",
      "8   [[[0.4980392156862745, 0.5294117647058824, 0.4...\n",
      "9   [[[0.4823529411764706, 0.5098039215686274, 0.2...\n",
      "10  [[[0.7647058823529411, 0.7058823529411765, 0.5...\n",
      "11  [[[0.19215686274509805, 0.21176470588235294, 0...\n",
      "12  [[[0.6078431372549019, 0.596078431372549, 0.62...\n",
      "13  [[[0.34509803921568627, 0.34509803921568627, 0...\n",
      "14  [[[0.5882352941176471, 0.6588235294117647, 0.7...\n",
      "15  [[[0.07058823529411765, 0.20784313725490197, 0...\n",
      "16  [[[0.3058823529411765, 0.2784313725490196, 0.2...\n",
      "17  [[[0.8392156862745098, 0.4392156862745098, 0.2...\n",
      "18  [[[0.8588235294117647, 0.8352941176470589, 0.8...\n",
      "19  [[[1.0, 0.996078431372549, 0.9882352941176471]...\n"
     ]
    }
   ],
   "source": [
    "X, y = load_path_of_dataset()\n",
    "x_new, y_new, interations = slot_loading(1, X, y)\n",
    "# slot_path_dataset, interations = slot_loading(1,path_dataset)\n",
    "dataset = get_images(x_new);\n",
    "print(dataset)"
   ]
  },
  {
   "cell_type": "markdown",
   "id": "024e8818",
   "metadata": {},
   "source": [
    "## Separação do Conjunto de teste e treino"
   ]
  },
  {
   "cell_type": "code",
   "execution_count": 92,
   "id": "6d2febe1",
   "metadata": {},
   "outputs": [
    {
     "name": "stdout",
     "output_type": "stream",
     "text": [
      "['Afghan_hound' 'African_hunting_dog' 'Airedale'\n",
      " 'American_Staffordshire_terrier' 'Appenzeller' 'Australian_Shepherd'\n",
      " 'Australian_terrier' 'Bedlington_terrier' 'Bernese_mountain_dog'\n",
      " 'Bichon_Frise' 'Black_sable' 'Blenheim_spaniel' 'Border_collie'\n",
      " 'Border_terrier' 'Boston_bull' 'Bouvier_des_Flandres' 'Brabancon_griffo'\n",
      " 'Brittany_spaniel' 'Cane_Carso' 'Cardigan' 'Chesapeake_Bay_retriever'\n",
      " 'Chihuahua' 'Chinese_Crested_Dog' 'Dandie_Dinmont' 'Doberman'\n",
      " 'English_foxhound' 'English_setter' 'English_springer' 'EntleBucher'\n",
      " 'Eskimo_dog' 'Fila Braziliero' 'French_bulldog' 'German_shepherd'\n",
      " 'German_short_haired_pointer' 'Gordon_setter' 'Great_Dane'\n",
      " 'Great_Pyrenees' 'Greater_Swiss_Mountain_dog' 'Ibizan_hound'\n",
      " 'Irish_setter' 'Irish_terrier' 'Irish_water_spaniel' 'Irish_wolfhound'\n",
      " 'Italian_greyhound' 'Japanese_Spitzes' 'Japanese_spaniel'\n",
      " 'Kerry_blue_terrier' 'Labrador_retriever' 'Lakeland_terrier' 'Leonberg'\n",
      " 'Lhasa' 'Maltese_dog' 'Mexican_hairless' 'Newfoundland' 'Norfolk_terrier'\n",
      " 'Norwegian_elkhound' 'Norwich_terrier' 'Old_English_sheepdog' 'Pekinese'\n",
      " 'Pembroke' 'Pomeranian' 'Rhodesian_ridgeback' 'Rottweiler'\n",
      " 'Saint_Bernard' 'Saluki' 'Samoyed' 'Scotch_terrier' 'Scottish_deerhound'\n",
      " 'Sealyham_terrier' 'Shetland_sheepdog' 'Shiba_Dog' 'Shih_Tzu'\n",
      " 'Siberian_husky' 'Staffordshire_bullterrier' 'Sussex_spaniel'\n",
      " 'Tibetan_mastiff' 'Tibetan_terrier' 'Walker_hound' 'Weimaraner'\n",
      " 'Welsh_springer_spaniel' 'West_Highland_white_terrier'\n",
      " 'Yorkshire_terrier' 'affenpinscher' 'basenji' 'basset' 'beagle'\n",
      " 'black_and_tan_coonhound' 'bloodhound' 'bluetick' 'borzoi' 'boxer'\n",
      " 'briard' 'bull_mastiff' 'cairn' 'chinese_rural_dog' 'chow' 'clumber'\n",
      " 'cocker_spaniel' 'collie' 'curly_coated_retriever' 'dhole' 'dingo'\n",
      " 'flat_coated_retriever' 'giant_schnauzer' 'golden_retriever'\n",
      " 'groenendael' 'keeshond' 'kelpie' 'komondor' 'kuvasz' 'malamute'\n",
      " 'malinois' 'miniature_pinscher' 'miniature_poodle' 'miniature_schnauzer'\n",
      " 'otterhound' 'papillon' 'pug' 'redbone' 'schipperke' 'silky_terrier'\n",
      " 'soft_coated_wheaten_terrier' 'standard_poodle' 'standard_schnauzer'\n",
      " 'teddy' 'toy_poodle' 'toy_terrier' 'vizsla' 'whippet'\n",
      " 'wire_haired_fox_terrier']\n",
      "Dimensões do conjunto de treino: 49302 49302\n",
      "Dimensões do conjunto de teste: 21130 21130\n"
     ]
    }
   ],
   "source": [
    "# Sua tupla\n",
    "X, y = load_path_of_dataset()\n",
    "\n",
    "print(np.unique(y))\n",
    "\n",
    "\n",
    "# Separando 70% para treino e 30% para teste\n",
    "X_treino, X_teste, y_treino, y_teste = train_test_split(X, y, test_size=0.3, random_state=42)\n",
    "\n",
    "# Exibindo as dimensões dos conjuntos de treino e teste\n",
    "print(\"Dimensões do conjunto de treino:\", len(X_treino), len(y_treino))\n",
    "print(\"Dimensões do conjunto de teste:\", len(X_teste), len(y_teste))"
   ]
  },
  {
   "cell_type": "markdown",
   "id": "c1bff8bd",
   "metadata": {},
   "source": [
    "## Criação do modelo"
   ]
  },
  {
   "cell_type": "code",
   "execution_count": 84,
   "id": "03225f8d",
   "metadata": {},
   "outputs": [
    {
     "name": "stdout",
     "output_type": "stream",
     "text": [
      "Model: \"sequential_8\"\n",
      "_________________________________________________________________\n",
      " Layer (type)                Output Shape              Param #   \n",
      "=================================================================\n",
      " conv2d_20 (Conv2D)          (None, 224, 224, 16)      208       \n",
      "                                                                 \n",
      " max_pooling2d_20 (MaxPooli  (None, 112, 112, 16)      0         \n",
      " ng2D)                                                           \n",
      "                                                                 \n",
      " conv2d_21 (Conv2D)          (None, 112, 112, 32)      2080      \n",
      "                                                                 \n",
      " max_pooling2d_21 (MaxPooli  (None, 56, 56, 32)        0         \n",
      " ng2D)                                                           \n",
      "                                                                 \n",
      " conv2d_22 (Conv2D)          (None, 56, 56, 64)        8256      \n",
      "                                                                 \n",
      " max_pooling2d_22 (MaxPooli  (None, 28, 28, 64)        0         \n",
      " ng2D)                                                           \n",
      "                                                                 \n",
      " dropout_15 (Dropout)        (None, 28, 28, 64)        0         \n",
      "                                                                 \n",
      " conv2d_23 (Conv2D)          (None, 28, 28, 128)       32896     \n",
      "                                                                 \n",
      " max_pooling2d_23 (MaxPooli  (None, 14, 14, 128)       0         \n",
      " ng2D)                                                           \n",
      "                                                                 \n",
      " dropout_16 (Dropout)        (None, 14, 14, 128)       0         \n",
      "                                                                 \n",
      " flatten_5 (Flatten)         (None, 25088)             0         \n",
      "                                                                 \n",
      " dense_10 (Dense)            (None, 512)               12845568  \n",
      "                                                                 \n",
      " dropout_17 (Dropout)        (None, 512)               0         \n",
      "                                                                 \n",
      " dense_11 (Dense)            (None, 133)               68229     \n",
      "                                                                 \n",
      "=================================================================\n",
      "Total params: 12957237 (49.43 MB)\n",
      "Trainable params: 12957237 (49.43 MB)\n",
      "Non-trainable params: 0 (0.00 Byte)\n",
      "_________________________________________________________________\n"
     ]
    }
   ],
   "source": [
    "from keras.layers import Conv2D, MaxPooling2D, GlobalAveragePooling2D\n",
    "from keras.layers import Dropout, Flatten, Dense\n",
    "from keras.models import Sequential\n",
    "# Model Architecture\n",
    "model = Sequential()\n",
    "model.add(Conv2D(filters=16, kernel_size=2, padding='same', activation='relu', input_shape=(224,224,3)))\n",
    "model.add(MaxPooling2D(pool_size=2))\n",
    "\n",
    "model.add(Conv2D(filters=32, kernel_size=2 , padding='same' , activation='relu'))\n",
    "model.add(MaxPooling2D(pool_size=2))\n",
    "model.add(Conv2D(filters=64 , kernel_size=2 , padding='same' , activation='relu'))\n",
    "model.add(MaxPooling2D(pool_size=2))\n",
    "model.add(Dropout(0.4))\n",
    "model.add(Conv2D(filters=128 , kernel_size=2 , padding='same' , activation='relu'))\n",
    "model.add(MaxPooling2D(pool_size=2))\n",
    "model.add(Dropout(0.4))\n",
    "model.add(Flatten())\n",
    "model.add(Dense(512, activation='relu'))\n",
    "model.add(Dropout(0.4))\n",
    "model.add(Dense(133,activation='softmax'))\n",
    "model.summary()\n",
    "model.compile(optimizer='adam', loss='binary_crossentropy', metrics=['accuracy'])\n",
    "\n"
   ]
  },
  {
   "cell_type": "markdown",
   "id": "429dd2ba",
   "metadata": {},
   "source": [
    "#### Treinamento em batches "
   ]
  },
  {
   "cell_type": "code",
   "execution_count": 98,
   "id": "0ef53db8",
   "metadata": {},
   "outputs": [
    {
     "name": "stdout",
     "output_type": "stream",
     "text": [
      "1  of  2465\n",
      "['274-n000110-Shetland_sheepdog/n136341.jpeg', '806-n000129-papillon/n170528.jpg', '3336-n000121-chinese_rural_dog/n147394.jpeg', '2909-n000116-Cardigan/n139660.jpeg', '2192-n000088-Samoyed/n125726.jpeg', '3336-n000121-chinese_rural_dog/n149939.jpeg', '3336-n000121-chinese_rural_dog/n149362.jpeg', '2192-n000088-Samoyed/n124595.jpg', '215-n000075-Chesapeake_Bay_retriever/n121448.jpg', '3580-n000122-Labrador_retriever/n151980.jpg', '207-n000011-Irish_setter/n107660.jpg', '253-n000107-Japanese_Spitzes/n133079.jpeg', '1043-n000001-Shiba_Dog/n100255.jpg', '5355-n000126-golden_retriever/n160225.jpeg', '206-n000051-Saluki/n114850.jpg', '221-n000055-EntleBucher/n117419.jpg', '2342-n000102-miniature_schnauzer/n129881.jpg', '276-n000112-English_springer/n136751.jpg', '230-n000084-Boston_bull/n123835.jpg', '211-n000059-German_short_haired_pointer/n118379.jpg']\n",
      "                                                Image\n",
      "0   [[[0.37254901960784315, 0.5843137254901961, 0....\n",
      "1   [[[0.3568627450980392, 0.3411764705882353, 0.2...\n",
      "2   [[[0.8274509803921568, 0.8313725490196079, 0.8...\n",
      "3   [[[0.9686274509803922, 0.9294117647058824, 0.8...\n",
      "4   [[[0.09019607843137255, 0.10980392156862745, 0...\n",
      "5   [[[0.41568627450980394, 0.40784313725490196, 0...\n",
      "6   [[[0.7764705882352941, 0.7725490196078432, 0.5...\n",
      "7   [[[0.396078431372549, 0.4, 0.41568627450980394...\n",
      "8   [[[1.0, 1.0, 1.0], [1.0, 1.0, 1.0], [1.0, 1.0,...\n",
      "9   [[[0.35294117647058826, 0.24313725490196078, 0...\n",
      "10  [[[0.7529411764705882, 0.8274509803921568, 0.9...\n",
      "11  [[[0.35294117647058826, 0.3215686274509804, 0....\n",
      "12  [[[0.08235294117647059, 0.1450980392156863, 0....\n",
      "13  [[[0.9333333333333333, 0.9607843137254902, 0.9...\n",
      "14  [[[0.0, 0.00784313725490196, 0.019607843137254...\n",
      "15  [[[0.28627450980392155, 0.4392156862745098, 0....\n",
      "16  [[[0.3568627450980392, 0.48627450980392156, 0....\n",
      "17  [[[0.00392156862745098, 0.00392156862745098, 0...\n",
      "18  [[[0.7176470588235294, 0.7254901960784313, 0.6...\n",
      "19  [[[0.25098039215686274, 0.36470588235294116, 0...\n",
      "[69, 116, 94, 19, 65, 94, 94, 65, 20, 47, 39, 44, 70, 104, 64, 28, 114, 27, 14, 33]\n",
      "2465\n"
     ]
    },
    {
     "ename": "ValueError",
     "evalue": "Failed to find data adapter that can handle input: <class 'pandas.core.frame.DataFrame'>, (<class 'list'> containing values of types {\"<class 'int'>\"})",
     "output_type": "error",
     "traceback": [
      "\u001b[0;31m---------------------------------------------------------------------------\u001b[0m",
      "\u001b[0;31mValueError\u001b[0m                                Traceback (most recent call last)",
      "Cell \u001b[0;32mIn[98], line 20\u001b[0m\n\u001b[1;32m     18\u001b[0m     \u001b[39mprint\u001b[39m(y_new)\n\u001b[1;32m     19\u001b[0m     \u001b[39mprint\u001b[39m(i)\n\u001b[0;32m---> 20\u001b[0m     model\u001b[39m.\u001b[39;49mfit(x_new , y_new, \n\u001b[1;32m     21\u001b[0m                shuffle \u001b[39m=\u001b[39;49m \u001b[39mTrue\u001b[39;49;00m,\n\u001b[1;32m     22\u001b[0m                batch_size \u001b[39m=\u001b[39;49m \u001b[39m20\u001b[39;49m,\n\u001b[1;32m     23\u001b[0m                epochs \u001b[39m=\u001b[39;49m \u001b[39m25\u001b[39;49m,\n\u001b[1;32m     24\u001b[0m                verbose \u001b[39m=\u001b[39;49m \u001b[39m1\u001b[39;49m)\n\u001b[1;32m     25\u001b[0m \u001b[39m# # Avaliar o modelo\u001b[39;00m\n\u001b[1;32m     26\u001b[0m \u001b[39m# score = model.score(dados_teste, rotulos_teste)\u001b[39;00m\n\u001b[1;32m     27\u001b[0m \u001b[39m# print(\"Acurácia do modelo:\", score)\u001b[39;00m\n",
      "File \u001b[0;32m~/.local/lib/python3.8/site-packages/keras/src/utils/traceback_utils.py:70\u001b[0m, in \u001b[0;36mfilter_traceback.<locals>.error_handler\u001b[0;34m(*args, **kwargs)\u001b[0m\n\u001b[1;32m     67\u001b[0m     filtered_tb \u001b[39m=\u001b[39m _process_traceback_frames(e\u001b[39m.\u001b[39m__traceback__)\n\u001b[1;32m     68\u001b[0m     \u001b[39m# To get the full stack trace, call:\u001b[39;00m\n\u001b[1;32m     69\u001b[0m     \u001b[39m# `tf.debugging.disable_traceback_filtering()`\u001b[39;00m\n\u001b[0;32m---> 70\u001b[0m     \u001b[39mraise\u001b[39;00m e\u001b[39m.\u001b[39mwith_traceback(filtered_tb) \u001b[39mfrom\u001b[39;00m \u001b[39mNone\u001b[39;00m\n\u001b[1;32m     71\u001b[0m \u001b[39mfinally\u001b[39;00m:\n\u001b[1;32m     72\u001b[0m     \u001b[39mdel\u001b[39;00m filtered_tb\n",
      "File \u001b[0;32m~/.local/lib/python3.8/site-packages/keras/src/engine/data_adapter.py:1105\u001b[0m, in \u001b[0;36mselect_data_adapter\u001b[0;34m(x, y)\u001b[0m\n\u001b[1;32m   1102\u001b[0m adapter_cls \u001b[39m=\u001b[39m [\u001b[39mcls\u001b[39m \u001b[39mfor\u001b[39;00m \u001b[39mcls\u001b[39m \u001b[39min\u001b[39;00m ALL_ADAPTER_CLS \u001b[39mif\u001b[39;00m \u001b[39mcls\u001b[39m\u001b[39m.\u001b[39mcan_handle(x, y)]\n\u001b[1;32m   1103\u001b[0m \u001b[39mif\u001b[39;00m \u001b[39mnot\u001b[39;00m adapter_cls:\n\u001b[1;32m   1104\u001b[0m     \u001b[39m# TODO(scottzhu): This should be a less implementation-specific error.\u001b[39;00m\n\u001b[0;32m-> 1105\u001b[0m     \u001b[39mraise\u001b[39;00m \u001b[39mValueError\u001b[39;00m(\n\u001b[1;32m   1106\u001b[0m         \u001b[39m\"\u001b[39m\u001b[39mFailed to find data adapter that can handle input: \u001b[39m\u001b[39m{}\u001b[39;00m\u001b[39m, \u001b[39m\u001b[39m{}\u001b[39;00m\u001b[39m\"\u001b[39m\u001b[39m.\u001b[39mformat(\n\u001b[1;32m   1107\u001b[0m             _type_name(x), _type_name(y)\n\u001b[1;32m   1108\u001b[0m         )\n\u001b[1;32m   1109\u001b[0m     )\n\u001b[1;32m   1110\u001b[0m \u001b[39melif\u001b[39;00m \u001b[39mlen\u001b[39m(adapter_cls) \u001b[39m>\u001b[39m \u001b[39m1\u001b[39m:\n\u001b[1;32m   1111\u001b[0m     \u001b[39mraise\u001b[39;00m \u001b[39mRuntimeError\u001b[39;00m(\n\u001b[1;32m   1112\u001b[0m         \u001b[39m\"\u001b[39m\u001b[39mData adapters should be mutually exclusive for \u001b[39m\u001b[39m\"\u001b[39m\n\u001b[1;32m   1113\u001b[0m         \u001b[39m\"\u001b[39m\u001b[39mhandling inputs. Found multiple adapters \u001b[39m\u001b[39m{}\u001b[39;00m\u001b[39m to handle \u001b[39m\u001b[39m\"\u001b[39m\n\u001b[1;32m   1114\u001b[0m         \u001b[39m\"\u001b[39m\u001b[39minput: \u001b[39m\u001b[39m{}\u001b[39;00m\u001b[39m, \u001b[39m\u001b[39m{}\u001b[39;00m\u001b[39m\"\u001b[39m\u001b[39m.\u001b[39mformat(adapter_cls, _type_name(x), _type_name(y))\n\u001b[1;32m   1115\u001b[0m     )\n",
      "\u001b[0;31mValueError\u001b[0m: Failed to find data adapter that can handle input: <class 'pandas.core.frame.DataFrame'>, (<class 'list'> containing values of types {\"<class 'int'>\"})"
     ]
    }
   ],
   "source": [
    "\n",
    "# X = [item[0] for item in path_dataset]  # Recursos (features) da tupla\n",
    "# y = [item[1] for item in path_dataset]   # Rótulos (labels) da tupla\n",
    "\n",
    "label_encoder = LabelEncoder()\n",
    "y_treino = label_encoder.fit_transform(y_treino)\n",
    "y_treino = y_treino.tolist()\n",
    "# Treinar o modelo\n",
    "x_new, y_new, i = slot_loading(1, X_treino, y_treino)\n",
    "# model.fit(x_new, y_new)\n",
    "\n",
    "for o in range(1, i):\n",
    "    print( o,\" of \" ,i)\n",
    "    x_new, y_new = None, None\n",
    "    x_new, y_new, i = slot_loading(o, X_treino, y_treino)\n",
    "    print(x_new)\n",
    "    x_new = get_images(x_new)\n",
    "    print(x_new)\n",
    "    print(y_new)\n",
    "    print(i)\n",
    "    model.fit(x_new , y_new, \n",
    "               shuffle = True,\n",
    "               batch_size = 20,\n",
    "               epochs = 25,\n",
    "               verbose = 1)\n",
    "# # Avaliar o modelo\n",
    "# score = model.score(dados_teste, rotulos_teste)\n",
    "# print(\"Acurácia do modelo:\", score)\n",
    "\n",
    "\n"
   ]
  },
  {
   "cell_type": "code",
   "execution_count": null,
   "id": "d8b7b1a6",
   "metadata": {},
   "outputs": [],
   "source": []
  }
 ],
 "metadata": {
  "kernelspec": {
   "display_name": "Python 3 (ipykernel)",
   "language": "python",
   "name": "python3"
  },
  "language_info": {
   "codemirror_mode": {
    "name": "ipython",
    "version": 3
   },
   "file_extension": ".py",
   "mimetype": "text/x-python",
   "name": "python",
   "nbconvert_exporter": "python",
   "pygments_lexer": "ipython3",
   "version": "3.8.10"
  }
 },
 "nbformat": 4,
 "nbformat_minor": 5
}

{
 "cells": [
  {
   "cell_type": "markdown",
   "id": "6506b9ec",
   "metadata": {},
   "source": [
    "# Detecção de Raças de Cachorros utilizando Redes Neurais"
   ]
  },
  {
   "cell_type": "markdown",
   "id": "a30a6b9a",
   "metadata": {},
   "source": [
    "## Importações"
   ]
  },
  {
   "cell_type": "markdown",
   "id": "47610128",
   "metadata": {},
   "source": [
    "### Importando biblioteca"
   ]
  },
  {
   "cell_type": "code",
   "execution_count": 67,
   "id": "4c5ea11c",
   "metadata": {},
   "outputs": [],
   "source": [
    "from keras.models import Sequential\n",
    "from keras.layers import Conv2D, MaxPooling2D, Flatten, Dense\n",
    "from keras.preprocessing.image import ImageDataGenerator\n",
    "from sys import platform\n",
    "import os \n",
    "import os\n",
    "import pandas as pd\n",
    "from PIL import Image\n",
    "import matplotlib.pyplot as plt\n",
    "import numpy as np\n",
    "import random\n",
    "from sklearn.model_selection import train_test_split\n",
    "from sklearn.preprocessing import LabelEncoder\n",
    "import tensorflow as tf\n",
    "\n",
    "# Image manipulation\n",
    "import PIL.Image\n",
    "from IPython.display import display\n",
    "\n",
    "# Open a Zip File\n",
    "from zipfile import ZipFile\n",
    "from io import BytesIO\n"
   ]
  },
  {
   "cell_type": "markdown",
   "id": "b105c589",
   "metadata": {},
   "source": [
    "### Importando Dataset"
   ]
  },
  {
   "cell_type": "code",
   "execution_count": 68,
   "id": "5a854672",
   "metadata": {},
   "outputs": [],
   "source": [
    "if platform == \"linux\" or platform == \"linux2\":\n",
    "    folder_path = os.getcwd() + \"/\" + \"low-resolution\"\n",
    "elif platform == \"win32\":\n",
    "   folder_path = os.getcwd() + \"\\\\\" + \"low-resolution\"\n",
    "\n",
    "\n",
    "list_images = []\n",
    "\n",
    "for subfolder in os.listdir(folder_path):\n",
    "    subfolder_path = os.path.join(folder_path, subfolder)\n",
    "    \n",
    "    if os.path.isdir(subfolder_path):\n",
    "        for file in os.listdir(subfolder_path):\n",
    "            \n",
    "            file_path = os.path.join(subfolder_path, file)\n",
    "            image_about = {}\n",
    "            breed = subfolder.split(\"-\")[-1]\n",
    "            image_about[\"breed\"] = breed\n",
    "            image_about[\"filename\"] = file\n",
    "            image_about[\"path_file\"] = file_path\n",
    "            list_images.append(image_about)\n",
    "\n",
    "df_images = pd.DataFrame.from_records(list_images)"
   ]
  },
  {
   "cell_type": "code",
   "execution_count": 69,
   "id": "d76c76ce",
   "metadata": {
    "scrolled": true
   },
   "outputs": [
    {
     "data": {
      "text/html": [
       "<div>\n",
       "<style scoped>\n",
       "    .dataframe tbody tr th:only-of-type {\n",
       "        vertical-align: middle;\n",
       "    }\n",
       "\n",
       "    .dataframe tbody tr th {\n",
       "        vertical-align: top;\n",
       "    }\n",
       "\n",
       "    .dataframe thead th {\n",
       "        text-align: right;\n",
       "    }\n",
       "</style>\n",
       "<table border=\"1\" class=\"dataframe\">\n",
       "  <thead>\n",
       "    <tr style=\"text-align: right;\">\n",
       "      <th></th>\n",
       "      <th>breed</th>\n",
       "      <th>filename</th>\n",
       "      <th>path_file</th>\n",
       "    </tr>\n",
       "  </thead>\n",
       "  <tbody>\n",
       "    <tr>\n",
       "      <th>0</th>\n",
       "      <td>Shiba_Dog</td>\n",
       "      <td>n100001.jpeg</td>\n",
       "      <td>C:\\Users\\amand\\Downloads\\redes_neurais\\low-res...</td>\n",
       "    </tr>\n",
       "    <tr>\n",
       "      <th>1</th>\n",
       "      <td>Shiba_Dog</td>\n",
       "      <td>n100002.jpeg</td>\n",
       "      <td>C:\\Users\\amand\\Downloads\\redes_neurais\\low-res...</td>\n",
       "    </tr>\n",
       "    <tr>\n",
       "      <th>2</th>\n",
       "      <td>Shiba_Dog</td>\n",
       "      <td>n100003.jpeg</td>\n",
       "      <td>C:\\Users\\amand\\Downloads\\redes_neurais\\low-res...</td>\n",
       "    </tr>\n",
       "    <tr>\n",
       "      <th>3</th>\n",
       "      <td>Shiba_Dog</td>\n",
       "      <td>n100004.jpg</td>\n",
       "      <td>C:\\Users\\amand\\Downloads\\redes_neurais\\low-res...</td>\n",
       "    </tr>\n",
       "    <tr>\n",
       "      <th>4</th>\n",
       "      <td>Shiba_Dog</td>\n",
       "      <td>n100005.jpg</td>\n",
       "      <td>C:\\Users\\amand\\Downloads\\redes_neurais\\low-res...</td>\n",
       "    </tr>\n",
       "    <tr>\n",
       "      <th>...</th>\n",
       "      <td>...</td>\n",
       "      <td>...</td>\n",
       "      <td>...</td>\n",
       "    </tr>\n",
       "    <tr>\n",
       "      <th>7474</th>\n",
       "      <td>kelpie</td>\n",
       "      <td>n116125.jpg</td>\n",
       "      <td>C:\\Users\\amand\\Downloads\\redes_neurais\\low-res...</td>\n",
       "    </tr>\n",
       "    <tr>\n",
       "      <th>7475</th>\n",
       "      <td>kelpie</td>\n",
       "      <td>n116126.jpg</td>\n",
       "      <td>C:\\Users\\amand\\Downloads\\redes_neurais\\low-res...</td>\n",
       "    </tr>\n",
       "    <tr>\n",
       "      <th>7476</th>\n",
       "      <td>kelpie</td>\n",
       "      <td>n116127.jpg</td>\n",
       "      <td>C:\\Users\\amand\\Downloads\\redes_neurais\\low-res...</td>\n",
       "    </tr>\n",
       "    <tr>\n",
       "      <th>7477</th>\n",
       "      <td>kelpie</td>\n",
       "      <td>n116128.jpg</td>\n",
       "      <td>C:\\Users\\amand\\Downloads\\redes_neurais\\low-res...</td>\n",
       "    </tr>\n",
       "    <tr>\n",
       "      <th>7478</th>\n",
       "      <td>kelpie</td>\n",
       "      <td>n116129.jpg</td>\n",
       "      <td>C:\\Users\\amand\\Downloads\\redes_neurais\\low-res...</td>\n",
       "    </tr>\n",
       "  </tbody>\n",
       "</table>\n",
       "<p>7479 rows × 3 columns</p>\n",
       "</div>"
      ],
      "text/plain": [
       "          breed      filename  \\\n",
       "0     Shiba_Dog  n100001.jpeg   \n",
       "1     Shiba_Dog  n100002.jpeg   \n",
       "2     Shiba_Dog  n100003.jpeg   \n",
       "3     Shiba_Dog   n100004.jpg   \n",
       "4     Shiba_Dog   n100005.jpg   \n",
       "...         ...           ...   \n",
       "7474     kelpie   n116125.jpg   \n",
       "7475     kelpie   n116126.jpg   \n",
       "7476     kelpie   n116127.jpg   \n",
       "7477     kelpie   n116128.jpg   \n",
       "7478     kelpie   n116129.jpg   \n",
       "\n",
       "                                              path_file  \n",
       "0     C:\\Users\\amand\\Downloads\\redes_neurais\\low-res...  \n",
       "1     C:\\Users\\amand\\Downloads\\redes_neurais\\low-res...  \n",
       "2     C:\\Users\\amand\\Downloads\\redes_neurais\\low-res...  \n",
       "3     C:\\Users\\amand\\Downloads\\redes_neurais\\low-res...  \n",
       "4     C:\\Users\\amand\\Downloads\\redes_neurais\\low-res...  \n",
       "...                                                 ...  \n",
       "7474  C:\\Users\\amand\\Downloads\\redes_neurais\\low-res...  \n",
       "7475  C:\\Users\\amand\\Downloads\\redes_neurais\\low-res...  \n",
       "7476  C:\\Users\\amand\\Downloads\\redes_neurais\\low-res...  \n",
       "7477  C:\\Users\\amand\\Downloads\\redes_neurais\\low-res...  \n",
       "7478  C:\\Users\\amand\\Downloads\\redes_neurais\\low-res...  \n",
       "\n",
       "[7479 rows x 3 columns]"
      ]
     },
     "execution_count": 69,
     "metadata": {},
     "output_type": "execute_result"
    }
   ],
   "source": [
    "df_images"
   ]
  },
  {
   "cell_type": "markdown",
   "id": "3ec04a6b",
   "metadata": {},
   "source": [
    "## Análise Exploratória de Dados"
   ]
  },
  {
   "cell_type": "code",
   "execution_count": 70,
   "id": "2eb0a872",
   "metadata": {},
   "outputs": [
    {
     "data": {
      "text/html": [
       "<div>\n",
       "<style scoped>\n",
       "    .dataframe tbody tr th:only-of-type {\n",
       "        vertical-align: middle;\n",
       "    }\n",
       "\n",
       "    .dataframe tbody tr th {\n",
       "        vertical-align: top;\n",
       "    }\n",
       "\n",
       "    .dataframe thead th {\n",
       "        text-align: right;\n",
       "    }\n",
       "</style>\n",
       "<table border=\"1\" class=\"dataframe\">\n",
       "  <thead>\n",
       "    <tr style=\"text-align: right;\">\n",
       "      <th></th>\n",
       "      <th>breed</th>\n",
       "      <th>count</th>\n",
       "    </tr>\n",
       "  </thead>\n",
       "  <tbody>\n",
       "    <tr>\n",
       "      <th>0</th>\n",
       "      <td>Brabancon_griffo</td>\n",
       "      <td>209</td>\n",
       "    </tr>\n",
       "    <tr>\n",
       "      <th>1</th>\n",
       "      <td>French_bulldog</td>\n",
       "      <td>1121</td>\n",
       "    </tr>\n",
       "    <tr>\n",
       "      <th>2</th>\n",
       "      <td>Pomeranian</td>\n",
       "      <td>1936</td>\n",
       "    </tr>\n",
       "    <tr>\n",
       "      <th>3</th>\n",
       "      <td>Shiba_Dog</td>\n",
       "      <td>1043</td>\n",
       "    </tr>\n",
       "    <tr>\n",
       "      <th>4</th>\n",
       "      <td>Siberian_husky</td>\n",
       "      <td>1160</td>\n",
       "    </tr>\n",
       "    <tr>\n",
       "      <th>5</th>\n",
       "      <td>West_Highland_white_terrier</td>\n",
       "      <td>209</td>\n",
       "    </tr>\n",
       "    <tr>\n",
       "      <th>6</th>\n",
       "      <td>dhole</td>\n",
       "      <td>209</td>\n",
       "    </tr>\n",
       "    <tr>\n",
       "      <th>7</th>\n",
       "      <td>kelpie</td>\n",
       "      <td>61</td>\n",
       "    </tr>\n",
       "    <tr>\n",
       "      <th>8</th>\n",
       "      <td>malamute</td>\n",
       "      <td>1324</td>\n",
       "    </tr>\n",
       "    <tr>\n",
       "      <th>9</th>\n",
       "      <td>redbone</td>\n",
       "      <td>207</td>\n",
       "    </tr>\n",
       "  </tbody>\n",
       "</table>\n",
       "</div>"
      ],
      "text/plain": [
       "                         breed  count\n",
       "0             Brabancon_griffo    209\n",
       "1               French_bulldog   1121\n",
       "2                   Pomeranian   1936\n",
       "3                    Shiba_Dog   1043\n",
       "4               Siberian_husky   1160\n",
       "5  West_Highland_white_terrier    209\n",
       "6                        dhole    209\n",
       "7                       kelpie     61\n",
       "8                     malamute   1324\n",
       "9                      redbone    207"
      ]
     },
     "execution_count": 70,
     "metadata": {},
     "output_type": "execute_result"
    }
   ],
   "source": [
    "# counting images number of each breed of dog\n",
    "\n",
    "# 130 breeds\n",
    "\n",
    "distribuition_images = df_images.groupby(['breed'])['breed'].count()\n",
    "#df2 = df2.reset_index()\n",
    "#df2.columns = ['breed', 'count']\n",
    "df2 = df_images.groupby('breed').size().reset_index(name='count')\n",
    "\n",
    "df2"
   ]
  },
  {
   "cell_type": "code",
   "execution_count": 71,
   "id": "eb2b8ca6",
   "metadata": {},
   "outputs": [],
   "source": [
    "#### Distribuição de raças"
   ]
  },
  {
   "cell_type": "code",
   "execution_count": 72,
   "id": "24a53171",
   "metadata": {},
   "outputs": [
    {
     "data": {
      "text/plain": [
       "Text(0.5, 1.0, 'Distribuição de raças de cachorro')"
      ]
     },
     "execution_count": 72,
     "metadata": {},
     "output_type": "execute_result"
    },
    {
     "data": {
      "image/png": "[encoded data removed]",
      "text/plain": [
       "<Figure size 360x3600 with 1 Axes>"
      ]
     },
     "metadata": {
      "needs_background": "light"
     },
     "output_type": "display_data"
    }
   ],
   "source": [
    "ax = distribuition_images.plot(x=\"Breed\", y=\"Count\", kind=\"barh\",figsize=(5, 50))\n",
    "distribuition_images.plot(x=\"breed\", y=\"count\", kind=\"barh\", ax=ax, color=\"maroon\")\n",
    "ax.set_title('Distribuição de raças de cachorro')\n"
   ]
  },
  {
   "cell_type": "markdown",
   "id": "46601712",
   "metadata": {},
   "source": [
    "### Visualizando imagens"
   ]
  },
  {
   "cell_type": "code",
   "execution_count": 73,
   "id": "6a0f925e",
   "metadata": {
    "scrolled": true
   },
   "outputs": [
    {
     "data": {
      "image/png": "[encoded data removed]",
      "text/plain": [
       "<Figure size 432x288 with 9 Axes>"
      ]
     },
     "metadata": {
      "needs_background": "light"
     },
     "output_type": "display_data"
    }
   ],
   "source": [
    "df = df_images.sample(n=9)\n",
    "count = 0\n",
    "\n",
    "for index, row in df.iterrows():\n",
    "    image = Image.open(row[\"path_file\"])\n",
    "\n",
    "    # Exibir a imagem\n",
    "    plt.subplot(3, 3, count + 1)\n",
    "    plt.imshow(image)\n",
    "    plt.axis('off')\n",
    "    count += 1\n"
   ]
  },
  {
   "cell_type": "code",
   "execution_count": 74,
   "id": "46cd798d",
   "metadata": {},
   "outputs": [
    {
     "data": {
      "text/html": [
       "<div>\n",
       "<style scoped>\n",
       "    .dataframe tbody tr th:only-of-type {\n",
       "        vertical-align: middle;\n",
       "    }\n",
       "\n",
       "    .dataframe tbody tr th {\n",
       "        vertical-align: top;\n",
       "    }\n",
       "\n",
       "    .dataframe thead th {\n",
       "        text-align: right;\n",
       "    }\n",
       "</style>\n",
       "<table border=\"1\" class=\"dataframe\">\n",
       "  <thead>\n",
       "    <tr style=\"text-align: right;\">\n",
       "      <th></th>\n",
       "      <th>breed</th>\n",
       "      <th>filename</th>\n",
       "      <th>path_file</th>\n",
       "    </tr>\n",
       "  </thead>\n",
       "  <tbody>\n",
       "    <tr>\n",
       "      <th>5064</th>\n",
       "      <td>Pomeranian</td>\n",
       "      <td>n105088.jpeg</td>\n",
       "      <td>C:\\Users\\amand\\Downloads\\redes_neurais\\low-res...</td>\n",
       "    </tr>\n",
       "    <tr>\n",
       "      <th>1338</th>\n",
       "      <td>French_bulldog</td>\n",
       "      <td>n101341.jpg</td>\n",
       "      <td>C:\\Users\\amand\\Downloads\\redes_neurais\\low-res...</td>\n",
       "    </tr>\n",
       "    <tr>\n",
       "      <th>3635</th>\n",
       "      <td>malamute</td>\n",
       "      <td>n103650.jpg</td>\n",
       "      <td>C:\\Users\\amand\\Downloads\\redes_neurais\\low-res...</td>\n",
       "    </tr>\n",
       "    <tr>\n",
       "      <th>5199</th>\n",
       "      <td>Pomeranian</td>\n",
       "      <td>n105223.jpg</td>\n",
       "      <td>C:\\Users\\amand\\Downloads\\redes_neurais\\low-res...</td>\n",
       "    </tr>\n",
       "    <tr>\n",
       "      <th>3117</th>\n",
       "      <td>Siberian_husky</td>\n",
       "      <td>n103128.jpeg</td>\n",
       "      <td>C:\\Users\\amand\\Downloads\\redes_neurais\\low-res...</td>\n",
       "    </tr>\n",
       "    <tr>\n",
       "      <th>4069</th>\n",
       "      <td>malamute</td>\n",
       "      <td>n104084.jpeg</td>\n",
       "      <td>C:\\Users\\amand\\Downloads\\redes_neurais\\low-res...</td>\n",
       "    </tr>\n",
       "    <tr>\n",
       "      <th>2255</th>\n",
       "      <td>Siberian_husky</td>\n",
       "      <td>n102260.jpg</td>\n",
       "      <td>C:\\Users\\amand\\Downloads\\redes_neurais\\low-res...</td>\n",
       "    </tr>\n",
       "    <tr>\n",
       "      <th>5305</th>\n",
       "      <td>Pomeranian</td>\n",
       "      <td>n105329.jpg</td>\n",
       "      <td>C:\\Users\\amand\\Downloads\\redes_neurais\\low-res...</td>\n",
       "    </tr>\n",
       "    <tr>\n",
       "      <th>1184</th>\n",
       "      <td>French_bulldog</td>\n",
       "      <td>n101187.jpg</td>\n",
       "      <td>C:\\Users\\amand\\Downloads\\redes_neurais\\low-res...</td>\n",
       "    </tr>\n",
       "  </tbody>\n",
       "</table>\n",
       "</div>"
      ],
      "text/plain": [
       "               breed      filename  \\\n",
       "5064      Pomeranian  n105088.jpeg   \n",
       "1338  French_bulldog   n101341.jpg   \n",
       "3635        malamute   n103650.jpg   \n",
       "5199      Pomeranian   n105223.jpg   \n",
       "3117  Siberian_husky  n103128.jpeg   \n",
       "4069        malamute  n104084.jpeg   \n",
       "2255  Siberian_husky   n102260.jpg   \n",
       "5305      Pomeranian   n105329.jpg   \n",
       "1184  French_bulldog   n101187.jpg   \n",
       "\n",
       "                                              path_file  \n",
       "5064  C:\\Users\\amand\\Downloads\\redes_neurais\\low-res...  \n",
       "1338  C:\\Users\\amand\\Downloads\\redes_neurais\\low-res...  \n",
       "3635  C:\\Users\\amand\\Downloads\\redes_neurais\\low-res...  \n",
       "5199  C:\\Users\\amand\\Downloads\\redes_neurais\\low-res...  \n",
       "3117  C:\\Users\\amand\\Downloads\\redes_neurais\\low-res...  \n",
       "4069  C:\\Users\\amand\\Downloads\\redes_neurais\\low-res...  \n",
       "2255  C:\\Users\\amand\\Downloads\\redes_neurais\\low-res...  \n",
       "5305  C:\\Users\\amand\\Downloads\\redes_neurais\\low-res...  \n",
       "1184  C:\\Users\\amand\\Downloads\\redes_neurais\\low-res...  "
      ]
     },
     "execution_count": 74,
     "metadata": {},
     "output_type": "execute_result"
    }
   ],
   "source": [
    "df"
   ]
  },
  {
   "cell_type": "markdown",
   "id": "46e8e35d",
   "metadata": {},
   "source": [
    "### Pré-processamento de imagens"
   ]
  },
  {
   "cell_type": "markdown",
   "id": "7cb5b838",
   "metadata": {},
   "source": [
    "#### Funções auxiliares para armazenar array de imagens em lotes"
   ]
  },
  {
   "cell_type": "code",
   "execution_count": 75,
   "id": "4164d7d4",
   "metadata": {},
   "outputs": [],
   "source": [
    "if platform == \"linux\" or platform == \"linux2\":\n",
    "    os_path = \"/\" \n",
    "elif platform == \"win32\":\n",
    "   os_path = \"\\\\\"\n",
    "\n",
    "folder_path = os.getcwd() + os_path + \"low-resolution\"\n",
    "slot_size = 70\n",
    "\n",
    "#Retorna uma tupla com os path de cada imagem e o target randomizados\n",
    "def load_path_of_dataset():\n",
    "    arquivos = os.listdir(folder_path)\n",
    "    subpastas = [subpasta for subpasta in os.listdir(folder_path) if os.path.isdir(os.path.join(folder_path, subpasta))]\n",
    "    imagens_path = []\n",
    "    labels = []\n",
    "    for subpasta in subpastas:\n",
    "        subpasta_path = os.path.join(folder_path, subpasta)\n",
    "        imagens = os.listdir(subpasta_path)\n",
    "        imagens_path.extend([subpasta + os_path + s for s in imagens])\n",
    "        label = subpasta.split(\"-\")[2]\n",
    "        labels.extend([label for s in imagens])\n",
    "    # minha_lista = list(zip(imagens_path, labels))\n",
    "    # random.shuffle(minha_lista)\n",
    "    return imagens_path, labels\n",
    "\n",
    "#função responsavel em realizar a divisão em slots\n",
    "#recebe como parametro a tupla da função load_path_of_dataset, e o numero da interação para carregar o dataframe\n",
    "#retorna uma tupla menor, e o numero máximo de interações posiveis até o fim do dataset\n",
    "def slot_loading(interacao, imagens_amostradas, imagens_labels):\n",
    "    if interacao <= 0:\n",
    "        raise ValueError('O valor da interação, deve ser maior que zero ! ')\n",
    "    elif interacao > (interacao * len(imagens_amostradas)):\n",
    "        raise ValueError('O valor da interação, é muito grande !')\n",
    "    \n",
    "    start_index = (interacao - 1) * slot_size\n",
    "    end_index = interacao * slot_size\n",
    "    if end_index > len(imagens_amostradas):\n",
    "        return imagens_amostradas[start_index:], imagens_labels[start_index:]\n",
    "    \n",
    "    return imagens_amostradas[start_index:end_index], tf.convert_to_tensor(imagens_labels[start_index:end_index]), len(imagens_amostradas) // slot_size\n",
    "\n",
    "#Recebe como parametro uma tupla\n",
    "#retorna um dataset já pré-processado e formatados\n",
    "def get_images(imagens_amostradas):\n",
    "    img_size_height = 300\n",
    "    img_size_width = 400\n",
    "    images = []\n",
    "    for imagem_nome in imagens_amostradas:\n",
    "        try:\n",
    "            imagem_path = os.path.join(folder_path, imagem_nome)\n",
    "            imagem = Image.open(imagem_path)\n",
    "            imagem = imagem.resize((img_size_width, img_size_height))  # Redimensiona para um tamanho comum\n",
    "            imagem_array = np.array(imagem) / 255.0  # Normaliza dividindo por 255\n",
    "            images.append(imagem_array)\n",
    "        except Exception as error:\n",
    "            print(\"ocorreu um erro com imagem_path: \", imagem_path, \" imagem_nome \" + imagem_nome,\" imagem_nome[0] \" + imagem_nome[0], \" imagens_amostradas: \" , imagens_amostradas)\n",
    "    images = tf.stack(images)\n",
    "    return images\n"
   ]
  },
  {
   "cell_type": "markdown",
   "id": "78941a8a",
   "metadata": {},
   "source": [
    "## Separação do Conjunto de teste e treino"
   ]
  },
  {
   "cell_type": "code",
   "execution_count": 76,
   "id": "d19659e2",
   "metadata": {},
   "outputs": [
    {
     "name": "stdout",
     "output_type": "stream",
     "text": [
      "Dimensões do conjunto de treino: 5235 5235\n",
      "Dimensões do conjunto de teste: 2244 2244\n"
     ]
    }
   ],
   "source": [
    "# Sua tupla\n",
    "X, y = load_path_of_dataset()\n",
    "\n",
    "label_encoder = LabelEncoder()\n",
    "y = label_encoder.fit_transform(y)\n",
    "y = y.tolist()\n",
    "# Codifique os rótulos como vetores one-hot\n",
    "y = tf.one_hot(y, depth=133)\n",
    "# Converta o tensor para um array numpy\n",
    "y = y.numpy()\n",
    "# Separando 70% para treino e 30% para teste\n",
    "X_treino, X_teste, y_treino, y_teste = train_test_split(X, y, test_size=0.3, random_state=42)\n",
    "\n",
    "# Exibindo as dimensões dos conjuntos de treino e teste\n",
    "print(\"Dimensões do conjunto de treino:\", len(X_treino), len(y_treino))\n",
    "print(\"Dimensões do conjunto de teste:\", len(X_teste), len(y_teste))"
   ]
  },
  {
   "cell_type": "code",
   "execution_count": 77,
   "id": "24f584f4",
   "metadata": {},
   "outputs": [
    {
     "data": {
      "text/plain": [
       "array([[0., 0., 0., ..., 0., 0., 0.],\n",
       "       [0., 0., 0., ..., 0., 0., 0.],\n",
       "       [0., 0., 0., ..., 0., 0., 0.],\n",
       "       ...,\n",
       "       [0., 0., 1., ..., 0., 0., 0.],\n",
       "       [0., 0., 0., ..., 0., 0., 0.],\n",
       "       [0., 0., 0., ..., 0., 0., 0.]], dtype=float32)"
      ]
     },
     "execution_count": 77,
     "metadata": {},
     "output_type": "execute_result"
    }
   ],
   "source": [
    "y_treino"
   ]
  },
  {
   "cell_type": "markdown",
   "id": "12afd64f",
   "metadata": {},
   "source": [
    "## Criação do modelo"
   ]
  },
  {
   "cell_type": "code",
   "execution_count": 78,
   "id": "4e5c2c13",
   "metadata": {},
   "outputs": [
    {
     "name": "stdout",
     "output_type": "stream",
     "text": [
      "Model: \"sequential_4\"\n",
      "_________________________________________________________________\n",
      " Layer (type)                Output Shape              Param #   \n",
      "=================================================================\n",
      " conv2d_16 (Conv2D)          (None, 300, 400, 16)      208       \n",
      "                                                                 \n",
      " max_pooling2d_16 (MaxPoolin  (None, 150, 200, 16)     0         \n",
      " g2D)                                                            \n",
      "                                                                 \n",
      " conv2d_17 (Conv2D)          (None, 150, 200, 32)      2080      \n",
      "                                                                 \n",
      " max_pooling2d_17 (MaxPoolin  (None, 75, 100, 32)      0         \n",
      " g2D)                                                            \n",
      "                                                                 \n",
      " conv2d_18 (Conv2D)          (None, 75, 100, 64)       8256      \n",
      "                                                                 \n",
      " max_pooling2d_18 (MaxPoolin  (None, 37, 50, 64)       0         \n",
      " g2D)                                                            \n",
      "                                                                 \n",
      " dropout_12 (Dropout)        (None, 37, 50, 64)        0         \n",
      "                                                                 \n",
      " conv2d_19 (Conv2D)          (None, 37, 50, 128)       32896     \n",
      "                                                                 \n",
      " max_pooling2d_19 (MaxPoolin  (None, 18, 25, 128)      0         \n",
      " g2D)                                                            \n",
      "                                                                 \n",
      " dropout_13 (Dropout)        (None, 18, 25, 128)       0         \n",
      "                                                                 \n",
      " flatten_4 (Flatten)         (None, 57600)             0         \n",
      "                                                                 \n",
      " dense_8 (Dense)             (None, 512)               29491712  \n",
      "                                                                 \n",
      " dropout_14 (Dropout)        (None, 512)               0         \n",
      "                                                                 \n",
      " dense_9 (Dense)             (None, 133)               68229     \n",
      "                                                                 \n",
      "=================================================================\n",
      "Total params: 29,603,381\n",
      "Trainable params: 29,603,381\n",
      "Non-trainable params: 0\n",
      "_________________________________________________________________\n"
     ]
    }
   ],
   "source": [
    "from keras.layers import Conv2D, MaxPooling2D, GlobalAveragePooling2D\n",
    "from keras.layers import Dropout, Flatten, Dense\n",
    "from keras.models import Sequential\n",
    "# Model Architecture\n",
    "model = Sequential()\n",
    "model.add(Conv2D(filters=16, kernel_size=2, padding='same', activation='relu', input_shape=(300,400,3)))\n",
    "model.add(MaxPooling2D(pool_size=2))\n",
    "\n",
    "model.add(Conv2D(filters=32, kernel_size=2 , padding='same' , activation='relu'))\n",
    "model.add(MaxPooling2D(pool_size=2))\n",
    "model.add(Conv2D(filters=64 , kernel_size=2 , padding='same' , activation='relu'))\n",
    "model.add(MaxPooling2D(pool_size=2))\n",
    "model.add(Dropout(0.4))\n",
    "model.add(Conv2D(filters=128 , kernel_size=2 , padding='same' , activation='relu'))\n",
    "model.add(MaxPooling2D(pool_size=2))\n",
    "model.add(Dropout(0.4))\n",
    "model.add(Flatten())\n",
    "model.add(Dense(512, activation='relu'))\n",
    "model.add(Dropout(0.4))\n",
    "model.add(Dense(133,activation='softmax'))\n",
    "model.summary()\n",
    "model.compile(optimizer='adam', loss='binary_crossentropy', metrics=['accuracy'])\n",
    "\n"
   ]
  },
  {
   "cell_type": "markdown",
   "id": "22d75fdb",
   "metadata": {},
   "source": [
    "### Treinamento em batch "
   ]
  },
  {
   "cell_type": "code",
   "execution_count": null,
   "id": "36fcff11",
   "metadata": {},
   "outputs": [
    {
     "name": "stdout",
     "output_type": "stream",
     "text": [
      "\r",
      "1/3 [=========>....................] - ETA: 10s - loss: 0.6969 - accuracy: 0.0625"
     ]
    }
   ],
   "source": [
    "# Treinar o modelo\n",
    "x_new, y_new, i = slot_loading(1, X_treino, y_treino)\n",
    "x_new_tensor = get_images(x_new)\n",
    "\n",
    "model.fit(x_new_tensor, y_new)\n",
    "for o in range(1, i):\n",
    "    print( o,\" of \" ,i)\n",
    "    x_new, y_new = None, None\n",
    "    x_new, y_new, i = slot_loading(o, X_treino, y_treino)\n",
    "    x_new = get_images(x_new)\n",
    "    model.fit(x_new , y_new)"
   ]
  },
  {
   "cell_type": "markdown",
   "id": "a0b74119",
   "metadata": {},
   "source": [
    "### Avaliação do modelo"
   ]
  },
  {
   "cell_type": "code",
   "execution_count": null,
   "id": "34a2e546",
   "metadata": {},
   "outputs": [],
   "source": [
    "x_new, y_new, i = slot_loading(1, X_teste, y_teste)\n",
    "x_new_tensor = get_images(x_new)\n",
    "test_loss, test_accuracy = 0, 0\n",
    "num_batches = 0\n",
    "\n",
    "test_loss, test_accuracy = model.evaluate(X_teste, y_teste)\n",
    "print('Test loss: {}'.format(test_loss))\n",
    "print('Test accuracy: {}'.format(test_accuracy))\n",
    "for o in range(1, i):\n",
    "    print( o,\" of \" ,i)\n",
    "    x_new, y_new = None, None\n",
    "    x_new, y_new, i = slot_loading(o, X_teste, y_teste)\n",
    "    x_new = get_images(x_new)\n",
    "    batch_loss, batch_accuracy  = model.evaluate(X_teste, y_teste)\n",
    "    test_loss += batch_loss\n",
    "    test_accuracy += batch_accuracy\n",
    "    num_batches += 1\n",
    "    print('Test loss: {}'.format(test_loss))\n",
    "    print('Test accuracy: {}'.format(test_accuracy))\n",
    "\n",
    "test_loss /= num_batches\n",
    "test_accuracy /= num_batches\n",
    "\n",
    "print('Test loss: {}'.format(test_loss))\n",
    "print('Test accuracy: {}'.format(test_accuracy))"
   ]
  }
 ],
 "metadata": {
  "kernelspec": {
   "display_name": "Python 3 (ipykernel)",
   "language": "python",
   "name": "python3"
  },
  "language_info": {
   "codemirror_mode": {
    "name": "ipython",
    "version": 3
   },
   "file_extension": ".py",
   "mimetype": "text/x-python",
   "name": "python",
   "nbconvert_exporter": "python",
   "pygments_lexer": "ipython3",
   "version": "3.8.10"
  }
 },
 "nbformat": 4,
 "nbformat_minor": 5
}

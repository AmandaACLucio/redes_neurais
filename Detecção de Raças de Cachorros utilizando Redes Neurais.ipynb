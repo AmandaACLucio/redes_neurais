{
 "cells": [
  {
   "cell_type": "markdown",
   "id": "990cc979",
   "metadata": {},
   "source": [
    "# Detecção de Raças de Cachorros utilizando Redes Neurais"
   ]
  },
  {
   "cell_type": "markdown",
   "id": "07581d71",
   "metadata": {},
   "source": [
    "## Importações"
   ]
  },
  {
   "cell_type": "markdown",
   "id": "500c5215",
   "metadata": {},
   "source": [
    "### Importando biblioteca"
   ]
  },
  {
   "cell_type": "code",
   "execution_count": 29,
   "id": "8263d0e4",
   "metadata": {},
   "outputs": [],
   "source": [
    "from keras.models import Sequential\n",
    "from keras.layers import Conv2D, MaxPooling2D, Flatten, Dense\n",
    "from keras.preprocessing.image import ImageDataGenerator\n",
    "import os\n",
    "import pandas as pd"
   ]
  },
  {
   "cell_type": "markdown",
   "id": "c9e4e16d",
   "metadata": {},
   "source": [
    "### Importando Dataset"
   ]
  },
  {
   "cell_type": "code",
   "execution_count": 30,
   "id": "567da10e",
   "metadata": {},
   "outputs": [],
   "source": [
    "folder_path = \"C:\\\\Users\\\\amand\\\\Downloads\\\\low-resolution\\\\low-resolution\"\n",
    "\n",
    "list_images = []\n",
    "\n",
    "for subfolder in os.listdir(folder_path):\n",
    "    subfolder_path = os.path.join(folder_path, subfolder)\n",
    "    \n",
    "    if os.path.isdir(subfolder_path):\n",
    "        for file in os.listdir(subfolder_path):\n",
    "            \n",
    "            file_path = os.path.join(subfolder_path, file)\n",
    "            image_about = {}\n",
    "            breed = subfolder.split(\"-\")[-1]\n",
    "            image_about[\"breed\"] = breed\n",
    "            image_about[\"filename\"] = file\n",
    "            image_about[\"path_file\"] = file_path\n",
    "            list_images.append(image_about)\n",
    "\n",
    "df_images = pd.DataFrame.from_records(list_images)"
   ]
  },
  {
   "cell_type": "code",
   "execution_count": 31,
   "id": "ad8d4888",
   "metadata": {},
   "outputs": [
    {
     "data": {
      "text/html": [
       "<div>\n",
       "<style scoped>\n",
       "    .dataframe tbody tr th:only-of-type {\n",
       "        vertical-align: middle;\n",
       "    }\n",
       "\n",
       "    .dataframe tbody tr th {\n",
       "        vertical-align: top;\n",
       "    }\n",
       "\n",
       "    .dataframe thead th {\n",
       "        text-align: right;\n",
       "    }\n",
       "</style>\n",
       "<table border=\"1\" class=\"dataframe\">\n",
       "  <thead>\n",
       "    <tr style=\"text-align: right;\">\n",
       "      <th></th>\n",
       "      <th>breed</th>\n",
       "      <th>filename</th>\n",
       "      <th>path_file</th>\n",
       "    </tr>\n",
       "  </thead>\n",
       "  <tbody>\n",
       "    <tr>\n",
       "      <th>0</th>\n",
       "      <td>Shiba_Dog</td>\n",
       "      <td>n100001.jpeg</td>\n",
       "      <td>C:\\Users\\amand\\Downloads\\low-resolution\\low-re...</td>\n",
       "    </tr>\n",
       "    <tr>\n",
       "      <th>1</th>\n",
       "      <td>Shiba_Dog</td>\n",
       "      <td>n100002.jpeg</td>\n",
       "      <td>C:\\Users\\amand\\Downloads\\low-resolution\\low-re...</td>\n",
       "    </tr>\n",
       "    <tr>\n",
       "      <th>2</th>\n",
       "      <td>Shiba_Dog</td>\n",
       "      <td>n100003.jpeg</td>\n",
       "      <td>C:\\Users\\amand\\Downloads\\low-resolution\\low-re...</td>\n",
       "    </tr>\n",
       "    <tr>\n",
       "      <th>3</th>\n",
       "      <td>Shiba_Dog</td>\n",
       "      <td>n100004.jpg</td>\n",
       "      <td>C:\\Users\\amand\\Downloads\\low-resolution\\low-re...</td>\n",
       "    </tr>\n",
       "    <tr>\n",
       "      <th>4</th>\n",
       "      <td>Shiba_Dog</td>\n",
       "      <td>n100005.jpg</td>\n",
       "      <td>C:\\Users\\amand\\Downloads\\low-resolution\\low-re...</td>\n",
       "    </tr>\n",
       "    <tr>\n",
       "      <th>...</th>\n",
       "      <td>...</td>\n",
       "      <td>...</td>\n",
       "      <td>...</td>\n",
       "    </tr>\n",
       "    <tr>\n",
       "      <th>70427</th>\n",
       "      <td>papillon</td>\n",
       "      <td>n170756.jpeg</td>\n",
       "      <td>C:\\Users\\amand\\Downloads\\low-resolution\\low-re...</td>\n",
       "    </tr>\n",
       "    <tr>\n",
       "      <th>70428</th>\n",
       "      <td>papillon</td>\n",
       "      <td>n170757.jpeg</td>\n",
       "      <td>C:\\Users\\amand\\Downloads\\low-resolution\\low-re...</td>\n",
       "    </tr>\n",
       "    <tr>\n",
       "      <th>70429</th>\n",
       "      <td>papillon</td>\n",
       "      <td>n170758.jpeg</td>\n",
       "      <td>C:\\Users\\amand\\Downloads\\low-resolution\\low-re...</td>\n",
       "    </tr>\n",
       "    <tr>\n",
       "      <th>70430</th>\n",
       "      <td>papillon</td>\n",
       "      <td>n170759.jpeg</td>\n",
       "      <td>C:\\Users\\amand\\Downloads\\low-resolution\\low-re...</td>\n",
       "    </tr>\n",
       "    <tr>\n",
       "      <th>70431</th>\n",
       "      <td>papillon</td>\n",
       "      <td>n170760.jpeg</td>\n",
       "      <td>C:\\Users\\amand\\Downloads\\low-resolution\\low-re...</td>\n",
       "    </tr>\n",
       "  </tbody>\n",
       "</table>\n",
       "<p>70432 rows × 3 columns</p>\n",
       "</div>"
      ],
      "text/plain": [
       "           breed      filename  \\\n",
       "0      Shiba_Dog  n100001.jpeg   \n",
       "1      Shiba_Dog  n100002.jpeg   \n",
       "2      Shiba_Dog  n100003.jpeg   \n",
       "3      Shiba_Dog   n100004.jpg   \n",
       "4      Shiba_Dog   n100005.jpg   \n",
       "...          ...           ...   \n",
       "70427   papillon  n170756.jpeg   \n",
       "70428   papillon  n170757.jpeg   \n",
       "70429   papillon  n170758.jpeg   \n",
       "70430   papillon  n170759.jpeg   \n",
       "70431   papillon  n170760.jpeg   \n",
       "\n",
       "                                               path_file  \n",
       "0      C:\\Users\\amand\\Downloads\\low-resolution\\low-re...  \n",
       "1      C:\\Users\\amand\\Downloads\\low-resolution\\low-re...  \n",
       "2      C:\\Users\\amand\\Downloads\\low-resolution\\low-re...  \n",
       "3      C:\\Users\\amand\\Downloads\\low-resolution\\low-re...  \n",
       "4      C:\\Users\\amand\\Downloads\\low-resolution\\low-re...  \n",
       "...                                                  ...  \n",
       "70427  C:\\Users\\amand\\Downloads\\low-resolution\\low-re...  \n",
       "70428  C:\\Users\\amand\\Downloads\\low-resolution\\low-re...  \n",
       "70429  C:\\Users\\amand\\Downloads\\low-resolution\\low-re...  \n",
       "70430  C:\\Users\\amand\\Downloads\\low-resolution\\low-re...  \n",
       "70431  C:\\Users\\amand\\Downloads\\low-resolution\\low-re...  \n",
       "\n",
       "[70432 rows x 3 columns]"
      ]
     },
     "execution_count": 31,
     "metadata": {},
     "output_type": "execute_result"
    }
   ],
   "source": [
    "df_images"
   ]
  },
  {
   "cell_type": "markdown",
   "id": "e4bd4682",
   "metadata": {},
   "source": [
    "### Análise Exploratória de Dados"
   ]
  },
  {
   "cell_type": "code",
   "execution_count": 32,
   "id": "fe4b41ed",
   "metadata": {},
   "outputs": [
    {
     "data": {
      "text/plain": [
       "breed\n",
       "Afghan_hound                       222\n",
       "African_hunting_dog                211\n",
       "Airedale                           200\n",
       "American_Staffordshire_terrier     216\n",
       "Appenzeller                        234\n",
       "                                  ... \n",
       "toy_poodle                        2925\n",
       "toy_terrier                        237\n",
       "vizsla                             210\n",
       "whippet                            234\n",
       "wire_haired_fox_terrier            226\n",
       "Name: breed, Length: 130, dtype: int64"
      ]
     },
     "execution_count": 32,
     "metadata": {},
     "output_type": "execute_result"
    }
   ],
   "source": [
    "# counting images number of each breed of dog\n",
    "\n",
    "# 130 breeds\n",
    "\n",
    "df2 = df_images.groupby(['breed'])['breed'].count()\n",
    "\n",
    "df2"
   ]
  },
  {
   "cell_type": "code",
   "execution_count": null,
   "id": "a744ad55",
   "metadata": {},
   "outputs": [],
   "source": []
  }
 ],
 "metadata": {
  "kernelspec": {
   "display_name": "Python 3 (ipykernel)",
   "language": "python",
   "name": "python3"
  },
  "language_info": {
   "codemirror_mode": {
    "name": "ipython",
    "version": 3
   },
   "file_extension": ".py",
   "mimetype": "text/x-python",
   "name": "python",
   "nbconvert_exporter": "python",
   "pygments_lexer": "ipython3",
   "version": "3.8.10"
  }
 },
 "nbformat": 4,
 "nbformat_minor": 5
}
